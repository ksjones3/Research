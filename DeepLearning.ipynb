{
 "cells": [
  {
   "cell_type": "code",
   "execution_count": 1,
   "id": "1288d0c0",
   "metadata": {},
   "outputs": [],
   "source": [
    "class Particle:\n",
    "    def __init__(self, particleText, METPhi):\n",
    "        \n",
    "        #Get our list of quantities for the particle\n",
    "        particleInfo = particleText.split(\",\")\n",
    "        \n",
    "        #Define our particle quantities\n",
    "        self.obj = particleInfo[0]\n",
    "        self.E = float(particleInfo[1])\n",
    "        self.pt = float(particleInfo[2])\n",
    "        self.eta = float(particleInfo[3])\n",
    "        self.phi = float(particleInfo[4])\n",
    "        self.deltaPhi = abs(self.phi-METPhi)\n",
    "        \n",
    "    def __str__(self):\n",
    "        return \"(obj: \" + self.obj + \", E: \" + str(self.E) + \", pt: \" + str(self.pt) + \", eta: \" + str(self.eta) + \", phi: \" +str(self.phi) + \")\"\n",
    "    \n",
    "    def getQuantity(self, quantityType):\n",
    "        \n",
    "        if quantityType == \"E\":\n",
    "            return self.E\n",
    "        \n",
    "        elif quantityType == \"pt\":\n",
    "            return self.pt\n",
    "        \n",
    "        elif quantityType == \"eta\":\n",
    "            return self.eta\n",
    "        \n",
    "        elif quantityType == \"phi\":\n",
    "            return self.phi\n",
    "        \n",
    "        elif quantityType == \"deltaPhi\":\n",
    "            return self.deltaPhi\n",
    "        \n",
    "        else:\n",
    "            print(\"Error: Invalid quantity type\")\n",
    "            return 0.0\n",
    "        \n",
    "    __repr__=__str__"
   ]
  },
  {
   "cell_type": "code",
   "execution_count": 2,
   "id": "0e219a49",
   "metadata": {},
   "outputs": [],
   "source": [
    "import numpy as np\n",
    "import matplotlib.pyplot as plt\n",
    "%matplotlib inline\n",
    "import pandas as pd\n",
    "import random\n",
    "from keras.models import Sequential\n",
    "from keras.layers import Dense\n",
    "from keras.models import Model\n",
    "from keras.layers import Dense, Input\n",
    "from keras.activations import relu\n",
    "from sklearn.metrics import roc_curve, auc"
   ]
  },
  {
   "cell_type": "code",
   "execution_count": 3,
   "id": "bf653a16",
   "metadata": {},
   "outputs": [],
   "source": [
    "def makeMatrixValues(ptList, pxSquaredList, pySquaredList, pxpyList):\n",
    "    \n",
    "    #Create the values to put in our momentum matrix\n",
    "    ptSum = sum(ptList)\n",
    "    pxSquaredSum = sum(pxSquaredList)/ptSum\n",
    "    pySquaredSum = sum(pySquaredList)/ptSum\n",
    "    pxpySum = sum(pxpyList)/ptSum\n",
    "    \n",
    "    return pxSquaredSum, pySquaredSum, pxpySum"
   ]
  },
  {
   "cell_type": "code",
   "execution_count": 4,
   "id": "fcc499e0",
   "metadata": {},
   "outputs": [],
   "source": [
    "def createMatrix(ptList, pxSquaredList, pySquaredList, pxpyList):\n",
    "    \n",
    "    #Create the values to put in our momentum matrix\n",
    "    pxSquaredSum, pySquaredSum, pxpySum = makeMatrixValues(ptList, pxSquaredList, pySquaredList, pxpyList)\n",
    "    \n",
    "    #Create the momentum matrix\n",
    "    pMatrix = [[pxSquaredSum, pxpySum], [pxpySum, pySquaredSum]]\n",
    "    \n",
    "    return pMatrix"
   ]
  },
  {
   "cell_type": "code",
   "execution_count": 5,
   "id": "73e28e5e",
   "metadata": {},
   "outputs": [],
   "source": [
    "def getEigenValues(ptList, pxSquaredList, pySquaredList, pxpyList):\n",
    "    \n",
    "    #Create the momentum matrix\n",
    "    pMatrix = createMatrix(ptList, pxSquaredList, pySquaredList, pxpyList)\n",
    "    \n",
    "    #Get the eigenvalues of our momentum matrix. We will use these eigenvalues to calculate transverse sphericity\n",
    "    eigenValues, eigenVectors = np.linalg.eig(pMatrix)\n",
    "    \n",
    "    return eigenValues"
   ]
  },
  {
   "cell_type": "code",
   "execution_count": 6,
   "id": "12fda520",
   "metadata": {},
   "outputs": [],
   "source": [
    "def computeSTFromEigenValues(eigenValues):\n",
    "    \n",
    "    #Define the eigenvalues needed to calculate transverse sphericity\n",
    "    eigenValue1 = max(eigenValues)\n",
    "    eigenValue2 = min(eigenValues)\n",
    "    \n",
    "    ST = 2.0*eigenValue2/(eigenValue1+eigenValue2)\n",
    "    \n",
    "    return ST"
   ]
  },
  {
   "cell_type": "code",
   "execution_count": 7,
   "id": "e9bead4c",
   "metadata": {},
   "outputs": [],
   "source": [
    "def getPValues(particle):\n",
    "    \n",
    "    #Get the particle quantities needed to get these values\n",
    "    pt = particle.pt\n",
    "    phi = particle.phi\n",
    "    \n",
    "    #Get the x and y components of momentum\n",
    "    px = pt*np.cos(phi)\n",
    "    py = pt*np.sin(phi)\n",
    "    \n",
    "    #These are values needed to create the momentum matrix to calcule transverse sphericity\n",
    "    pxSquared = px**2/pt\n",
    "    pySquared = py**2/pt\n",
    "    pxpy = px*py/pt\n",
    "    \n",
    "    return pt, pxSquared, pySquared, pxpy"
   ]
  },
  {
   "cell_type": "code",
   "execution_count": 8,
   "id": "f5e1b289",
   "metadata": {},
   "outputs": [],
   "source": [
    "def checkJets(obj):\n",
    "    return obj in [\"j\", \"b\"]\n",
    "\n",
    "def checkLeptons(obj):\n",
    "    return obj in [\"e-\", \"e+\", \"m-\", \"m+\"]\n",
    "\n",
    "def checkPhotons(obj):\n",
    "    return obj==\"g\""
   ]
  },
  {
   "cell_type": "code",
   "execution_count": 9,
   "id": "b3555358",
   "metadata": {},
   "outputs": [],
   "source": [
    "def calculateST(ptList, pxSquaredList, pySquaredList, pxpyList):\n",
    "    \n",
    "    #Make the matrix and get the eigenvalues needed to calculate ST\n",
    "    eigenValues = getEigenValues(ptList, pxSquaredList, pySquaredList, pxpyList)\n",
    "    \n",
    "    ST = computeSTFromEigenValues(eigenValues)\n",
    "    \n",
    "    return ST"
   ]
  },
  {
   "cell_type": "code",
   "execution_count": 10,
   "id": "f10a4f9c",
   "metadata": {},
   "outputs": [],
   "source": [
    "def makeFeatures(MET, METPhi, eventInfo):\n",
    "    \n",
    "    #total number of datapoints in the line\n",
    "    length = len(eventInfo)\n",
    "    \n",
    "    # define quantitity lists needed for calculating transverse sphericity\n",
    "    particleList = []\n",
    "    \n",
    "    pxSquaredList = []\n",
    "    pySquaredList = []\n",
    "    pxpyList = []\n",
    "    ptList = []\n",
    "    \n",
    "    deltaPhiList = []\n",
    "    \n",
    "    #Define the absolute sum of transverse momentum to calculate Meff\n",
    "    absolutePtSum = 0.0\n",
    "    leadingPt = 0.0\n",
    "    \n",
    "    #Define the count for the various particle types\n",
    "    jets = 0\n",
    "    leptons = 0\n",
    "    photons = 0\n",
    "    \n",
    "    #Increment over all of the particles in the line\n",
    "    for i in range(5, length):\n",
    "        \n",
    "        #Get the text for the particle\n",
    "        particleText = eventInfo[i]\n",
    "        \n",
    "        #Make sure that it is actually information for the particle\n",
    "        if particleText != \"\" and particleText != \"\\n\":\n",
    "            \n",
    "            particle = Particle(particleText, METPhi)\n",
    "            \n",
    "            #get the type of particle\n",
    "            obj = particle.obj\n",
    "            \n",
    "            #count the particles of each type\n",
    "            if checkJets(obj):\n",
    "                jets += 1\n",
    "                \n",
    "            elif checkLeptons(obj):\n",
    "                leptons += 1\n",
    "                \n",
    "            elif checkPhotons(obj):\n",
    "                photons += 1\n",
    "            \n",
    "            #Get the momentum-derived values needed to calulate features\n",
    "            pt, pxSquared, pySquared, pxpy = getPValues(particle)\n",
    "            \n",
    "            if pt > leadingPt:\n",
    "                leadingPt = pt\n",
    "            \n",
    "            pxSquaredList.append(pxSquared)\n",
    "            pySquaredList.append(pySquared)\n",
    "            pxpyList.append(pxpy)\n",
    "            ptList.append(pt)\n",
    "            \n",
    "            absolutePtSum += abs(pt)\n",
    "            \n",
    "            particleList.append(particle)\n",
    "            deltaPhiList.append(particle.deltaPhi)\n",
    "    \n",
    "    ST = calculateST(ptList, pxSquaredList, pySquaredList, pxpyList)\n",
    "    \n",
    "    Meff = MET + absolutePtSum\n",
    "    \n",
    "    return particleList, jets, leptons, photons, Meff, ST, leadingPt, ptList, deltaPhiList"
   ]
  },
  {
   "cell_type": "code",
   "execution_count": 11,
   "id": "3670a9ce",
   "metadata": {},
   "outputs": [],
   "source": [
    "def makeEvent(line, signal):\n",
    "    \n",
    "    eventInfo = line.split(\";\")\n",
    "    \n",
    "    eventID = eventInfo[0]\n",
    "    processID = eventInfo[1]\n",
    "    eventWeight = float(eventInfo[2])\n",
    "    MET = float(eventInfo[3])\n",
    "    METPhi = float(eventInfo[4])\n",
    "    \n",
    "    signal = float(signal)\n",
    "    \n",
    "    particleList, jets, leptons, photons, Meff, ST, leadingPt, ptList, deltaPhiList = makeFeatures(MET, METPhi, eventInfo)\n",
    "    \n",
    "    crossSection = 1.0\n",
    "    \n",
    "    event = {\n",
    "        \"eventID\" : eventID,\n",
    "        \"processID\" : processID,\n",
    "        \"eventWeight\" : eventWeight,\n",
    "        \"MET\" : MET,\n",
    "        \"METPhi\" : METPhi,\n",
    "        \"particleList\" : particleList,\n",
    "        \"jets\" : jets,\n",
    "        \"leptons\" : leptons,\n",
    "        \"photons\" : photons,\n",
    "        \"crossSection\" : crossSection,\n",
    "        \"Meff\" : Meff,\n",
    "        \"ST\" : ST,\n",
    "        \"leadingPt\" : leadingPt,\n",
    "        \"ptList\" : ptList,\n",
    "        \"deltaPhiList\" : deltaPhiList,\n",
    "        \"signal\" : signal\n",
    "    }\n",
    "    \n",
    "    return event"
   ]
  },
  {
   "cell_type": "code",
   "execution_count": 12,
   "id": "fc7b85ce",
   "metadata": {},
   "outputs": [],
   "source": [
    "def calculateSignalCrossSection(event, length):\n",
    "    \n",
    "    eventWeight = event[\"eventWeight\"]\n",
    "    \n",
    "    crossSection = eventWeight*length\n",
    "    \n",
    "    return crossSection"
   ]
  },
  {
   "cell_type": "code",
   "execution_count": 13,
   "id": "a20c555d",
   "metadata": {},
   "outputs": [],
   "source": [
    "def calculateBackgroundCrossSection(length, luminosity):\n",
    "    \n",
    "    crossSection = length/luminosity\n",
    "    \n",
    "    return crossSection"
   ]
  },
  {
   "cell_type": "code",
   "execution_count": 14,
   "id": "f2a1b588",
   "metadata": {},
   "outputs": [],
   "source": [
    "def calculateCrossSection(event, length, luminosity, signal):\n",
    "    if signal:\n",
    "        return calculateSignalCrossSection(event, length)\n",
    "    else:\n",
    "        return calculateBackgroundCrossSection(length, luminosity)"
   ]
  },
  {
   "cell_type": "code",
   "execution_count": 15,
   "id": "f4923a21",
   "metadata": {},
   "outputs": [],
   "source": [
    "def makeDataList(filePath, signal, luminosity = 1.0):\n",
    "    \n",
    "    file = open(filePath, \"r\")\n",
    "    \n",
    "    dataList = []\n",
    "    \n",
    "    for line in file:\n",
    "        \n",
    "        event = makeEvent(line, signal)\n",
    "        \n",
    "        dataList.append(event)\n",
    "\n",
    "    file.close()\n",
    "    \n",
    "    length = float(len(dataList))\n",
    "    \n",
    "    for event in dataList:\n",
    "        \n",
    "        event[\"crossSection\"] = calculateCrossSection(event, length, luminosity, signal)\n",
    "    \n",
    "    \n",
    "    return dataList"
   ]
  },
  {
   "cell_type": "code",
   "execution_count": 16,
   "id": "5d718fae",
   "metadata": {},
   "outputs": [],
   "source": [
    "backgroundDataList = makeDataList(\"Data/training_files/training_files/chan1/background_chan1_7.79.csv\", False, luminosity = 7.79)\n",
    "signalDataList = makeDataList(\"Data/training_files/training_files/chan1/glgl1400_neutralino1100_chan1.csv\", True)"
   ]
  },
  {
   "cell_type": "code",
   "execution_count": 17,
   "id": "9e4ce5c2",
   "metadata": {},
   "outputs": [],
   "source": [
    "N_Train=2000\n",
    "\n",
    "trainBackgroundDataList = backgroundDataList[:N_Train]\n",
    "testBackgroundDataList = backgroundDataList[N_Train:]\n",
    "\n",
    "trainSignalDataList = signalDataList[:N_Train]\n",
    "testSignalDataList = signalDataList[N_Train:]\n",
    "\n",
    "trainDataList = trainBackgroundDataList + trainSignalDataList\n",
    "testDataList = testBackgroundDataList + testSignalDataList\n",
    "\n",
    "random.shuffle(trainDataList)\n",
    "random.shuffle(testDataList)"
   ]
  },
  {
   "cell_type": "code",
   "execution_count": 18,
   "id": "504a7812",
   "metadata": {},
   "outputs": [],
   "source": [
    "Train_Sample = pd.DataFrame(data = trainDataList)\n",
    "Test_Sample = pd.DataFrame(data = testDataList)\n",
    "\n",
    "VarNames = [\"MET\", \"METPhi\", \"jets\", \"leptons\", \"photons\", \"Meff\", \"ST\", \"leadingPt\"]\n",
    "\n",
    "X_Train = Train_Sample[VarNames]\n",
    "y_Train = Train_Sample[\"signal\"]\n",
    "\n",
    "X_Test = Test_Sample[VarNames]\n",
    "y_Test = Test_Sample[\"signal\"]\n",
    "\n",
    "Test_sig = Test_Sample[Test_Sample.signal == 1]\n",
    "Test_bkg = Test_Sample[Test_Sample.signal == 0]"
   ]
  },
  {
   "cell_type": "code",
   "execution_count": 19,
   "id": "52086535",
   "metadata": {},
   "outputs": [],
   "source": [
    "model = Sequential()\n",
    "model.add(Dense(200, input_dim=X_Train.shape[1], activation='tanh'))\n",
    "model.add(Dense(200, activation='tanh'))\n",
    "model.add(Dense(20, activation='tanh'))\n",
    "model.add(Dense(10, activation='relu'))\n",
    "model.add(Dense(1, activation='sigmoid'))"
   ]
  },
  {
   "cell_type": "code",
   "execution_count": 20,
   "id": "82189ea8",
   "metadata": {},
   "outputs": [
    {
     "name": "stdout",
     "output_type": "stream",
     "text": [
      "Model: \"sequential\"\n",
      "_________________________________________________________________\n",
      " Layer (type)                Output Shape              Param #   \n",
      "=================================================================\n",
      " dense (Dense)               (None, 200)               1800      \n",
      "                                                                 \n",
      " dense_1 (Dense)             (None, 200)               40200     \n",
      "                                                                 \n",
      " dense_2 (Dense)             (None, 20)                4020      \n",
      "                                                                 \n",
      " dense_3 (Dense)             (None, 10)                210       \n",
      "                                                                 \n",
      " dense_4 (Dense)             (None, 1)                 11        \n",
      "                                                                 \n",
      "=================================================================\n",
      "Total params: 46,241\n",
      "Trainable params: 46,241\n",
      "Non-trainable params: 0\n",
      "_________________________________________________________________\n"
     ]
    }
   ],
   "source": [
    "model.summary()"
   ]
  },
  {
   "cell_type": "code",
   "execution_count": 21,
   "id": "f7061d2f",
   "metadata": {},
   "outputs": [],
   "source": [
    "model.compile(loss='MeanSquaredError', optimizer='adam', metrics=['accuracy'])"
   ]
  },
  {
   "cell_type": "code",
   "execution_count": 22,
   "id": "6296ed6b",
   "metadata": {},
   "outputs": [
    {
     "name": "stdout",
     "output_type": "stream",
     "text": [
      "Epoch 1/20\n",
      "2/2 [==============================] - 2s 742ms/step - loss: 0.2518 - accuracy: 0.5512 - val_loss: 0.2677 - val_accuracy: 0.2850\n",
      "Epoch 2/20\n",
      "2/2 [==============================] - 1s 492ms/step - loss: 0.2395 - accuracy: 0.6275 - val_loss: 0.2395 - val_accuracy: 0.5643\n",
      "Epoch 3/20\n",
      "2/2 [==============================] - 1s 500ms/step - loss: 0.2307 - accuracy: 0.6933 - val_loss: 0.2245 - val_accuracy: 0.6114\n",
      "Epoch 4/20\n",
      "2/2 [==============================] - 0s 488ms/step - loss: 0.2175 - accuracy: 0.6990 - val_loss: 0.1950 - val_accuracy: 0.6449\n",
      "Epoch 5/20\n",
      "2/2 [==============================] - 1s 495ms/step - loss: 0.2078 - accuracy: 0.7048 - val_loss: 0.1848 - val_accuracy: 0.7046\n",
      "Epoch 6/20\n",
      "2/2 [==============================] - 1s 559ms/step - loss: 0.2010 - accuracy: 0.7085 - val_loss: 0.2061 - val_accuracy: 0.6501\n",
      "Epoch 7/20\n",
      "2/2 [==============================] - 1s 552ms/step - loss: 0.1957 - accuracy: 0.7135 - val_loss: 0.1915 - val_accuracy: 0.6848\n",
      "Epoch 8/20\n",
      "2/2 [==============================] - 1s 518ms/step - loss: 0.1918 - accuracy: 0.7203 - val_loss: 0.1829 - val_accuracy: 0.7153\n",
      "Epoch 9/20\n",
      "2/2 [==============================] - 1s 634ms/step - loss: 0.1900 - accuracy: 0.7247 - val_loss: 0.1983 - val_accuracy: 0.7157\n",
      "Epoch 10/20\n",
      "2/2 [==============================] - 1s 698ms/step - loss: 0.1891 - accuracy: 0.7268 - val_loss: 0.1854 - val_accuracy: 0.7651\n",
      "Epoch 11/20\n",
      "2/2 [==============================] - 1s 500ms/step - loss: 0.1874 - accuracy: 0.7170 - val_loss: 0.1813 - val_accuracy: 0.7507\n",
      "Epoch 12/20\n",
      "2/2 [==============================] - 1s 554ms/step - loss: 0.1875 - accuracy: 0.7095 - val_loss: 0.1997 - val_accuracy: 0.7184\n",
      "Epoch 13/20\n",
      "2/2 [==============================] - 1s 608ms/step - loss: 0.1884 - accuracy: 0.7128 - val_loss: 0.1760 - val_accuracy: 0.7251\n",
      "Epoch 14/20\n",
      "2/2 [==============================] - 1s 556ms/step - loss: 0.1888 - accuracy: 0.7138 - val_loss: 0.1846 - val_accuracy: 0.6517\n",
      "Epoch 15/20\n",
      "2/2 [==============================] - 1s 569ms/step - loss: 0.1886 - accuracy: 0.7125 - val_loss: 0.1890 - val_accuracy: 0.6040\n",
      "Epoch 16/20\n",
      "2/2 [==============================] - 1s 565ms/step - loss: 0.1865 - accuracy: 0.7045 - val_loss: 0.1697 - val_accuracy: 0.6788\n",
      "Epoch 17/20\n",
      "2/2 [==============================] - 1s 556ms/step - loss: 0.1843 - accuracy: 0.7168 - val_loss: 0.1909 - val_accuracy: 0.6560\n",
      "Epoch 18/20\n",
      "2/2 [==============================] - 1s 511ms/step - loss: 0.1832 - accuracy: 0.7190 - val_loss: 0.1694 - val_accuracy: 0.8207\n",
      "Epoch 19/20\n",
      "2/2 [==============================] - 1s 512ms/step - loss: 0.1820 - accuracy: 0.7232 - val_loss: 0.1786 - val_accuracy: 0.8042\n",
      "Epoch 20/20\n",
      "2/2 [==============================] - 1s 648ms/step - loss: 0.1836 - accuracy: 0.7262 - val_loss: 0.1755 - val_accuracy: 0.8014\n"
     ]
    }
   ],
   "source": [
    "history=model.fit(X_Train, y_Train, validation_data=(X_Test,y_Test), epochs=20, batch_size=2048)"
   ]
  },
  {
   "cell_type": "code",
   "execution_count": 23,
   "id": "ab502dd1",
   "metadata": {},
   "outputs": [
    {
     "name": "stdout",
     "output_type": "stream",
     "text": [
      "{'loss': [0.2517835795879364, 0.23950256407260895, 0.23067864775657654, 0.2174878567457199, 0.20784185826778412, 0.20097224414348602, 0.1957434117794037, 0.1918257772922516, 0.1899646371603012, 0.18909791111946106, 0.18735553324222565, 0.18754379451274872, 0.1884315013885498, 0.1888170838356018, 0.18864022195339203, 0.18651586771011353, 0.1843162477016449, 0.1832108050584793, 0.18198031187057495, 0.18355236947536469], 'accuracy': [0.5512499809265137, 0.6274999976158142, 0.6932500004768372, 0.6990000009536743, 0.7047500014305115, 0.7085000276565552, 0.7135000228881836, 0.7202500104904175, 0.7247499823570251, 0.7267500162124634, 0.7170000076293945, 0.7095000147819519, 0.7127500176429749, 0.7137500047683716, 0.7124999761581421, 0.7045000195503235, 0.7167500257492065, 0.718999981880188, 0.7232499718666077, 0.7262499928474426], 'val_loss': [0.2676716446876526, 0.2395222783088684, 0.22451651096343994, 0.19497615098953247, 0.18483753502368927, 0.2061423361301422, 0.19148147106170654, 0.1829175353050232, 0.19833779335021973, 0.1853620707988739, 0.18134739995002747, 0.19974394142627716, 0.17603132128715515, 0.18464607000350952, 0.18899963796138763, 0.16973239183425903, 0.19086749851703644, 0.1693519502878189, 0.17857354879379272, 0.17552325129508972], 'val_accuracy': [0.28495293855667114, 0.5643244385719299, 0.6113981008529663, 0.6449475288391113, 0.7046495079994202, 0.6501136422157288, 0.6848204135894775, 0.7152897119522095, 0.7157284021377563, 0.7651494741439819, 0.7506778240203857, 0.7183511257171631, 0.7251039743423462, 0.651681661605835, 0.603968620300293, 0.6788002848625183, 0.6560450792312622, 0.8207400441169739, 0.8041543364524841, 0.8014009594917297]}\n"
     ]
    }
   ],
   "source": [
    "print (history.history)"
   ]
  },
  {
   "cell_type": "code",
   "execution_count": 24,
   "id": "f1eaf1c7",
   "metadata": {},
   "outputs": [
    {
     "data": {
      "text/plain": [
       "<matplotlib.legend.Legend at 0x239f95d4640>"
      ]
     },
     "execution_count": 24,
     "metadata": {},
     "output_type": "execute_result"
    },
    {
     "data": {
      "image/png": "[encoded data removed]",
      "text/plain": [
       "<Figure size 432x288 with 1 Axes>"
      ]
     },
     "metadata": {
      "needs_background": "light"
     },
     "output_type": "display_data"
    }
   ],
   "source": [
    "plt.plot(range(len(history.history[\"loss\"])),history.history[\"loss\"],label=\"Training Loss\")\n",
    "plt.plot(range(len(history.history[\"val_loss\"])),history.history[\"val_loss\"],label=\"Validation Loss\")\n",
    "plt.legend()"
   ]
  },
  {
   "cell_type": "code",
   "execution_count": 25,
   "id": "991b0e53",
   "metadata": {},
   "outputs": [
    {
     "name": "stdout",
     "output_type": "stream",
     "text": [
      "6697/6697 [==============================] - 12s 2ms/step - loss: 0.1755 - accuracy: 0.8014\n",
      "[0.175523042678833, 0.8014009594917297]\n"
     ]
    }
   ],
   "source": [
    "scores = model.evaluate(X_Test, y_Test)\n",
    "print(scores)"
   ]
  },
  {
   "cell_type": "code",
   "execution_count": 26,
   "id": "646e4a0b",
   "metadata": {},
   "outputs": [
    {
     "name": "stdout",
     "output_type": "stream",
     "text": [
      "6697/6697 [==============================] - 10s 1ms/step\n"
     ]
    },
    {
     "data": {
      "text/plain": [
       "array([[0.2608779 ],\n",
       "       [0.17012778],\n",
       "       [0.3453544 ],\n",
       "       ...,\n",
       "       [0.34534943],\n",
       "       [0.17012776],\n",
       "       [0.7691861 ]], dtype=float32)"
      ]
     },
     "execution_count": 26,
     "metadata": {},
     "output_type": "execute_result"
    }
   ],
   "source": [
    "model.predict(X_Test)"
   ]
  },
  {
   "cell_type": "code",
   "execution_count": 27,
   "id": "7cb9b9f7",
   "metadata": {},
   "outputs": [
    {
     "name": "stdout",
     "output_type": "stream",
     "text": [
      "6697/6697 [==============================] - 9s 1ms/step\n"
     ]
    },
    {
     "data": {
      "image/png": "[encoded data removed]",
      "text/plain": [
       "<Figure size 432x288 with 1 Axes>"
      ]
     },
     "metadata": {
      "needs_background": "light"
     },
     "output_type": "display_data"
    }
   ],
   "source": [
    "fpr, tpr, _ = roc_curve(y_Test, model.predict(X_Test))\n",
    "                        \n",
    "roc_auc = auc(fpr, tpr)\n",
    "\n",
    "plt.plot(fpr,tpr,color='darkorange',label='ROC curve (area = %0.2f)' % roc_auc)\n",
    "plt.legend(loc=\"lower right\")\n",
    "plt.xlabel('False Positive Rate')\n",
    "plt.ylabel('True Positive Rate')\n",
    "\n",
    "plt.show()"
   ]
  }
 ],
 "metadata": {
  "kernelspec": {
   "display_name": "Python 3",
   "language": "python",
   "name": "python3"
  },
  "language_info": {
   "codemirror_mode": {
    "name": "ipython",
    "version": 3
   },
   "file_extension": ".py",
   "mimetype": "text/x-python",
   "name": "python",
   "nbconvert_exporter": "python",
   "pygments_lexer": "ipython3",
   "version": "3.8.8"
  }
 },
 "nbformat": 4,
 "nbformat_minor": 5
}
