{
 "cells": [
  {
   "cell_type": "code",
   "execution_count": 1,
   "id": "7c3fd949",
   "metadata": {},
   "outputs": [],
   "source": [
    "class Particle:\n",
    "    def __init__(self, particleText):\n",
    "        \n",
    "        #Get our list of quantities for the particle\n",
    "        particleInfo = particleText.split(\",\")\n",
    "        \n",
    "        #Define our particle quantities\n",
    "        self.obj = particleInfo[0]\n",
    "        self.E = float(particleInfo[1])\n",
    "        self.pt = float(particleInfo[2])\n",
    "        self.eta = float(particleInfo[3])\n",
    "        self.phi = float(particleInfo[4])\n",
    "        \n",
    "    def __str__(self):\n",
    "        return \"(obj: \" + self.obj + \", E: \" + str(self.E) + \", pt: \" + str(self.pt) + \", eta: \" + str(self.eta) + \", phi: \" +str(self.phi) + \")\"\n",
    "    \n",
    "    def getQuantity(self, quantityType):\n",
    "        \n",
    "        if quantityType == \"E\":\n",
    "            return self.E\n",
    "        \n",
    "        elif quantityType == \"pt\":\n",
    "            return self.pt\n",
    "        \n",
    "        elif quantityType == \"eta\":\n",
    "            return self.eta\n",
    "        \n",
    "        elif quantityType == \"phi\":\n",
    "            return self.phi\n",
    "\n",
    "        else:\n",
    "            print(\"Error: Invalid quantity type\")\n",
    "            return 0.0\n",
    "        \n",
    "    __repr__=__str__"
   ]
  },
  {
   "cell_type": "code",
   "execution_count": 2,
   "id": "764ace51",
   "metadata": {},
   "outputs": [],
   "source": [
    "import numpy as np\n",
    "import os\n",
    "os.environ[\"KERAS_BACKEND\"] = \"tensorflow\"\n",
    "import pandas as pd\n",
    "import matplotlib.pyplot as plt\n",
    "%matplotlib inline\n",
    "import tensorflow as tf\n",
    "from keras.models import Model\n",
    "from keras.layers import Input, Dense, Dropout\n",
    "from keras.utils import plot_model\n",
    "from sklearn.preprocessing import scale, normalize\n",
    "from sklearn.preprocessing import MinMaxScaler\n",
    "from keras.callbacks import EarlyStopping\n",
    "from random import shuffle\n",
    "from sklearn.metrics import roc_curve, auc, mean_squared_error"
   ]
  },
  {
   "cell_type": "code",
   "execution_count": 3,
   "id": "4aa8ffa0",
   "metadata": {},
   "outputs": [],
   "source": [
    "def checkJets(obj):\n",
    "    return obj in [\"j\", \"b\"]\n",
    "\n",
    "def checkLeptons(obj):\n",
    "    return obj in [\"e-\", \"e+\", \"m-\", \"m+\"]\n",
    "\n",
    "def checkPhotons(obj):\n",
    "    return obj==\"g\""
   ]
  },
  {
   "cell_type": "code",
   "execution_count": 4,
   "id": "0ecbcb7a",
   "metadata": {},
   "outputs": [],
   "source": [
    "def makeParticleList(eventInfo):\n",
    "    \n",
    "    #total number of datapoints in the line\n",
    "    length = len(eventInfo)\n",
    "    \n",
    "    particleList = []\n",
    "    \n",
    "    #Increment over all of the particles in the line\n",
    "    for i in range(5, length):\n",
    "        \n",
    "        #Get the text for the particle\n",
    "        particleText = eventInfo[i]\n",
    "        \n",
    "        #Make sure that it is actually information for the particle\n",
    "        if particleText != \"\" and particleText != \"\\n\":\n",
    "            \n",
    "            particle = Particle(particleText)\n",
    "            \n",
    "            particleList.append(particle)\n",
    "    \n",
    "    return particleList"
   ]
  },
  {
   "cell_type": "code",
   "execution_count": 5,
   "id": "a770394c",
   "metadata": {},
   "outputs": [],
   "source": [
    "def makeEvent(line, signal):\n",
    "    \n",
    "    eventInfo = line.split(\";\")\n",
    "    \n",
    "    eventID = eventInfo[0]\n",
    "    processID = eventInfo[1]\n",
    "    eventWeight = float(eventInfo[2])\n",
    "    MET = float(eventInfo[3])\n",
    "    METPhi = float(eventInfo[4])\n",
    "    \n",
    "    signal = float(signal)\n",
    "    \n",
    "    particleList = makeParticleList(eventInfo)\n",
    "    \n",
    "    crossSection = 1.0\n",
    "    \n",
    "    event = {\n",
    "        \"eventID\" : eventID,\n",
    "        \"processID\" : processID,\n",
    "        \"eventWeight\" : eventWeight,\n",
    "        \"MET\" : MET,\n",
    "        \"METPhi\" : METPhi,\n",
    "        \"particleList\" : particleList,\n",
    "        \"crossSection\" : crossSection,\n",
    "        \"signal\" : signal\n",
    "    }\n",
    "    \n",
    "    return event"
   ]
  },
  {
   "cell_type": "code",
   "execution_count": 6,
   "id": "111910e3",
   "metadata": {},
   "outputs": [],
   "source": [
    "def calculateSignalCrossSection(event, length):\n",
    "    \n",
    "    eventWeight = event[\"eventWeight\"]\n",
    "    \n",
    "    crossSection = eventWeight*length\n",
    "    \n",
    "    return crossSection"
   ]
  },
  {
   "cell_type": "code",
   "execution_count": 7,
   "id": "2f580799",
   "metadata": {},
   "outputs": [],
   "source": [
    "def calculateBackgroundCrossSection(length, luminosity):\n",
    "    \n",
    "    crossSection = length/luminosity\n",
    "    \n",
    "    return crossSection"
   ]
  },
  {
   "cell_type": "code",
   "execution_count": 8,
   "id": "9237e14a",
   "metadata": {},
   "outputs": [],
   "source": [
    "def calculateCrossSection(event, length, luminosity, signal):\n",
    "    if signal:\n",
    "        return calculateSignalCrossSection(event, length)\n",
    "    else:\n",
    "        return calculateBackgroundCrossSection(length, luminosity)"
   ]
  },
  {
   "cell_type": "code",
   "execution_count": 9,
   "id": "8b5b525e",
   "metadata": {},
   "outputs": [],
   "source": [
    "def makeDataList(filePath, signal, luminosity = 1.0):\n",
    "    \n",
    "    file = open(filePath, \"r\")\n",
    "    \n",
    "    dataList = []\n",
    "    \n",
    "    for line in file:\n",
    "        \n",
    "        event = makeEvent(line, signal)\n",
    "        \n",
    "        dataList.append(event)\n",
    "\n",
    "    file.close()\n",
    "    \n",
    "    length = float(len(dataList))\n",
    "    \n",
    "    for event in dataList:\n",
    "        \n",
    "        event[\"crossSection\"] = calculateCrossSection(event, length, luminosity, signal)\n",
    "    \n",
    "    \n",
    "    return dataList"
   ]
  },
  {
   "cell_type": "code",
   "execution_count": 10,
   "id": "a75f9ea3",
   "metadata": {},
   "outputs": [],
   "source": [
    "def makeParticleVectors(event):\n",
    "    \n",
    "    particleVectors = []\n",
    "    particleList = event[\"particleList\"]\n",
    "    length = len(particleList)\n",
    "    \n",
    "    #jets = []\n",
    "    #leptons = []\n",
    "    \n",
    "    #for particle in particleList:\n",
    "        #if checkJets(particle.obj):\n",
    "            #jets.append(particle)\n",
    "        #elif checkLeptons(particle.obj):\n",
    "            #leptons.append(particle)\n",
    "    \n",
    "    #jetNumber = len(jets)\n",
    "    #leptonNumber = len(leptons)\n",
    "    \n",
    "    #for i in range(0, 6):\n",
    "        #if i < jetNumber:\n",
    "            #jet = jets[i]\n",
    "            #particleVectors.append(jet.pt)\n",
    "            #particleVectors.append(jet.eta)\n",
    "            #particleVectors.append(jet.phi)\n",
    "            #particleVectors.append(jet.E)\n",
    "        #else:\n",
    "            #for j in range(0, 4):\n",
    "                #particleVectors.append(0.0)\n",
    "    \n",
    "    #for i in range(0, 2):\n",
    "        #if i < leptonNumber:\n",
    "            #lepton = leptons[i]\n",
    "            #particleVectors.append(lepton.pt)\n",
    "            #particleVectors.append(lepton.eta)\n",
    "            #particleVectors.append(lepton.phi)\n",
    "            #particleVectors.append(lepton.E)\n",
    "        #else:\n",
    "            #for j in range(0, 4):\n",
    "                #particleVectors.append(0.0)\n",
    "        \n",
    "    for i in range(0, 8):\n",
    "        if i < length:\n",
    "            particle = particleList[i]\n",
    "            particleVectors.append(particle.pt)\n",
    "            particleVectors.append(particle.eta)\n",
    "            particleVectors.append(particle.phi)\n",
    "            particleVectors.append(particle.E)\n",
    "        else:\n",
    "            for n in range(0, 4):\n",
    "                particleVectors.append(0.0)\n",
    "    \n",
    "    return particleVectors"
   ]
  },
  {
   "cell_type": "code",
   "execution_count": 11,
   "id": "97958aa0",
   "metadata": {},
   "outputs": [],
   "source": [
    "def scaleData(data):\n",
    "    \n",
    "    scaler = MinMaxScaler()\n",
    "    scaledData = scaler.fit_transform(data)\n",
    "    return scaledData"
   ]
  },
  {
   "cell_type": "code",
   "execution_count": 12,
   "id": "5b13766f",
   "metadata": {},
   "outputs": [],
   "source": [
    "def formatAutoencoderData(dataList):\n",
    "    \n",
    "    autoencoderData = []\n",
    "    \n",
    "    for event in dataList:\n",
    "        particleVectors = makeParticleVectors(event)\n",
    "        \n",
    "        #tensor = tf.constant([particleVectors[0], particleVectors[1], particleVectors[2], particleVectors[3], particleVectors[4], particleVectors[5], particleVectors[6], particleVectors[7], event[\"MET\"], event[\"METPhi\"]])\n",
    "        \n",
    "        autoencoderData.append([particleVectors[0], particleVectors[1], particleVectors[2], particleVectors[3], particleVectors[4], particleVectors[5], particleVectors[6], particleVectors[7], particleVectors[8], particleVectors[9], particleVectors[10], particleVectors[11], particleVectors[12], particleVectors[13], particleVectors[14], particleVectors[15], particleVectors[16], particleVectors[17], particleVectors[18], particleVectors[19], particleVectors[20], particleVectors[21], particleVectors[22], particleVectors[23], particleVectors[24], particleVectors[25], particleVectors[26], particleVectors[27], particleVectors[28], particleVectors[29], particleVectors[30], particleVectors[31], event[\"MET\"], event[\"METPhi\"], event[\"signal\"]])\n",
    "    \n",
    "    scaledData = scaleData(autoencoderData)\n",
    "    print(scaledData)\n",
    "    \n",
    "    autoencoderDataframe = pd.DataFrame(data = scaledData, columns = [\"Particle1PT\", \"Particle1Eta\", \"Particle1Phi\", \"Particle1E\", \"Particle2PT\", \"Particle2Eta\", \"Particle2Phi\", \"Particle2E\", \"Particle3PT\", \"Particle3Eta\", \"Particle3Phi\", \"Particle3E\", \"Particle4PT\", \"Particle4Eta\", \"Particle4Phi\", \"Particle4E\", \"Particle5PT\", \"Particle5Eta\", \"Particle5Phi\", \"Particle5E\", \"Particle6PT\", \"Particle6Eta\", \"Particle6Phi\", \"Particle6E\", \"Particle7PT\", \"Particle7Eta\", \"Particle7Phi\", \"Particle7E\", \"Particle8PT\", \"Particle8Eta\", \"Particle8Phi\", \"Particle8E\", \"MET\", \"METPhi\", \"Signal\"])\n",
    "    \n",
    "    return autoencoderDataframe\n",
    "        \n",
    "        "
   ]
  },
  {
   "cell_type": "code",
   "execution_count": 13,
   "id": "2d9c638c",
   "metadata": {},
   "outputs": [],
   "source": [
    "def calculateAutoencoderError(X_Test, autoencoder):\n",
    "    \n",
    "    distortedData = autoencoder.predict(X_Test)\n",
    "    \n",
    "    X_Test = X_Test.to_numpy()\n",
    "    y_predict = []\n",
    "    \n",
    "    for i in range(0, len(distortedData)):\n",
    "        testEvent = X_Test[i]\n",
    "        distortedEvent = distortedData[i]\n",
    "        predict = 0.0\n",
    "        for j in range(0, len(distortedEvent)):\n",
    "            predict += (distortedEvent[j]-testEvent[j])**2\n",
    "        y_predict.append(predict)\n",
    "    \n",
    "    #y_predict = scaleData(np.reshape(y_predict, (-1, 1)))\n",
    "    \n",
    "    return y_predict"
   ]
  },
  {
   "cell_type": "code",
   "execution_count": 14,
   "id": "e6885d60",
   "metadata": {},
   "outputs": [],
   "source": [
    "def normalizeArea(hist, bin_edges):\n",
    "    \n",
    "    bin_size = bin_edges[1] - bin_edges[0]\n",
    "    integral = sum(hist) * bin_size\n",
    "    normalizedCount = (1.0/integral) * hist\n",
    "    \n",
    "    return normalizedCount"
   ]
  },
  {
   "cell_type": "code",
   "execution_count": 15,
   "id": "85beff29",
   "metadata": {},
   "outputs": [],
   "source": [
    "def plotHistogram(y_Predict, x_Predict, numBins):\n",
    "    y_hist, bin_edges = np.histogram(y_Predict, bins=numBins)\n",
    "    normalizedYCount = normalizeArea(y_hist, bin_edges)\n",
    "    plt.step(bin_edges[1:], normalizedYCount, label=\"Signal\")\n",
    "    x_hist, bin_edges = np.histogram(x_Predict, bins=numBins)\n",
    "    normalizedXCount = normalizeArea(x_hist, bin_edges)\n",
    "    plt.step(bin_edges[1:], normalizedXCount, label=\"Background\")\n",
    "    plt.legend()\n",
    "    plt.show()\n",
    "    plt.close()"
   ]
  },
  {
   "cell_type": "code",
   "execution_count": null,
   "id": "8cbd70f0",
   "metadata": {},
   "outputs": [],
   "source": []
  },
  {
   "cell_type": "code",
   "execution_count": 16,
   "id": "4bd13e58",
   "metadata": {},
   "outputs": [],
   "source": [
    "backgroundDataList = makeDataList(\"Data/training_files/training_files/chan1/background_chan1_7.79.csv\", False, luminosity = 7.79)\n",
    "signalDataList = makeDataList(\"Data/training_files/training_files/chan1/glgl1400_neutralino1100_chan1.csv\", True)\n",
    "length = len(signalDataList)\n",
    "testDataList = signalDataList+backgroundDataList[:length]\n",
    "trainingDataList = backgroundDataList[length:]"
   ]
  },
  {
   "cell_type": "code",
   "execution_count": 17,
   "id": "a8f640ce",
   "metadata": {},
   "outputs": [
    {
     "name": "stdout",
     "output_type": "stream",
     "text": [
      "[[0.03119086 0.97093983 0.23618605 ... 0.05855334 0.57428654 0.        ]\n",
      " [0.11816892 0.83004629 0.82715489 ... 0.05185371 0.29118767 0.        ]\n",
      " [0.0178816  0.18724195 0.70490233 ... 0.04401252 0.14580472 0.        ]\n",
      " ...\n",
      " [0.05108204 0.16346058 0.68674421 ... 0.0793834  0.2687705  0.        ]\n",
      " [0.05124701 0.34005743 0.12829095 ... 0.01522025 0.57889157 0.        ]\n",
      " [0.19189365 0.39894424 0.66459127 ... 0.05038262 0.15621832 0.        ]]\n",
      "[[0.44230631 0.53252889 0.28663354 ... 0.39031068 0.80018814 1.        ]\n",
      " [0.02211443 0.43175951 0.04826736 ... 0.0368723  0.45957905 1.        ]\n",
      " [0.05541422 0.70105408 0.27135368 ... 0.06456814 0.5787892  1.        ]\n",
      " ...\n",
      " [0.05114402 0.59820906 0.34872379 ... 0.00397095 0.89039166 0.        ]\n",
      " [0.0381824  0.51921991 0.67220093 ... 0.13426695 0.21114341 0.        ]\n",
      " [0.19733478 0.56433782 0.47852827 ... 0.04035451 0.98546111 0.        ]]\n"
     ]
    }
   ],
   "source": [
    "autoencoderBackgroundData = formatAutoencoderData(trainingDataList)\n",
    "autoencoderTestData = formatAutoencoderData(testDataList)"
   ]
  },
  {
   "cell_type": "code",
   "execution_count": 18,
   "id": "9fdf4504",
   "metadata": {},
   "outputs": [],
   "source": [
    "VarNames = [\"Particle1PT\", \"Particle1Eta\", \"Particle1Phi\", \"Particle1E\", \"Particle2PT\", \"Particle2Eta\", \"Particle2Phi\", \"Particle2E\", \"Particle3PT\", \"Particle3Eta\", \"Particle3Phi\", \"Particle3E\", \"Particle4PT\", \"Particle4Eta\", \"Particle4Phi\", \"Particle4E\", \"Particle5PT\", \"Particle5Eta\", \"Particle5Phi\", \"Particle5E\", \"Particle6PT\", \"Particle6Eta\", \"Particle6Phi\", \"Particle6E\", \"Particle7PT\", \"Particle7Eta\", \"Particle7Phi\", \"Particle7E\", \"Particle8PT\", \"Particle8Eta\", \"Particle8Phi\", \"Particle8E\", \"MET\", \"METPhi\"]\n",
    "autoencoderBackgroundData = autoencoderBackgroundData[VarNames]\n",
    "X_Test = autoencoderTestData[VarNames]\n",
    "y_Test = autoencoderTestData[\"Signal\"]"
   ]
  },
  {
   "cell_type": "code",
   "execution_count": 19,
   "id": "20db377a",
   "metadata": {},
   "outputs": [],
   "source": [
    "input_dim=autoencoderBackgroundData.shape[1]\n",
    "\n",
    "input_vec = Input(shape =(input_dim,))\n",
    "\n",
    "encoded = Dense(34, activation='relu')(input_vec)\n",
    "encoded = Dense(200, activation='tanh')(encoded)\n",
    "encoded = Dense(200, activation='tanh')(encoded)\n",
    "encoded = Dense(20, activation='tanh')(encoded)\n",
    "#encoded = Dense(10, activation='tanh')(encoded)\n",
    "decoded = Dense(10, activation='tanh')(encoded)\n",
    "decoded = Dense(20, activation='tanh')(decoded)\n",
    "decoded = Dense(200, activation='tanh')(decoded)\n",
    "decoded = Dense(200, activation='tanh')(decoded)\n",
    "decoded = Dense(input_dim, activation='relu')(decoded)\n",
    "\n",
    "autoencoder=Model(input_vec, decoded)\n",
    "\n",
    "\n",
    "autoencoder.compile(optimizer=\"adam\",\n",
    "                    loss=\"mean_squared_error\") "
   ]
  },
  {
   "cell_type": "code",
   "execution_count": 20,
   "id": "f5af2338",
   "metadata": {},
   "outputs": [
    {
     "name": "stdout",
     "output_type": "stream",
     "text": [
      "Epoch 1/100\n",
      "1513/1513 [==============================] - 7s 4ms/step - loss: 0.0480 - val_loss: 0.0409\n",
      "Epoch 2/100\n",
      "1513/1513 [==============================] - 6s 4ms/step - loss: 0.0409 - val_loss: 0.0409\n",
      "Epoch 3/100\n",
      "1513/1513 [==============================] - 6s 4ms/step - loss: 0.0408 - val_loss: 0.0409\n",
      "Epoch 4/100\n",
      "1513/1513 [==============================] - 6s 4ms/step - loss: 0.0408 - val_loss: 0.0409\n",
      "Epoch 5/100\n",
      "1513/1513 [==============================] - 6s 4ms/step - loss: 0.0408 - val_loss: 0.0409\n",
      "Epoch 6/100\n",
      "1513/1513 [==============================] - 6s 4ms/step - loss: 0.0408 - val_loss: 0.0409\n",
      "Epoch 7/100\n",
      "1513/1513 [==============================] - 6s 4ms/step - loss: 0.0408 - val_loss: 0.0409\n",
      "Epoch 8/100\n",
      "1513/1513 [==============================] - 6s 4ms/step - loss: 0.0408 - val_loss: 0.0409\n",
      "Epoch 9/100\n",
      "1513/1513 [==============================] - 6s 4ms/step - loss: 0.0408 - val_loss: 0.0409\n",
      "Epoch 10/100\n",
      "1513/1513 [==============================] - 6s 4ms/step - loss: 0.0408 - val_loss: 0.0409\n",
      "Epoch 11/100\n",
      "1513/1513 [==============================] - 6s 4ms/step - loss: 0.0408 - val_loss: 0.0409\n",
      "Epoch 12/100\n",
      "1513/1513 [==============================] - 6s 4ms/step - loss: 0.0408 - val_loss: 0.0409\n",
      "Epoch 13/100\n",
      "1513/1513 [==============================] - 6s 4ms/step - loss: 0.0408 - val_loss: 0.0409\n",
      "Epoch 14/100\n",
      "1513/1513 [==============================] - 6s 4ms/step - loss: 0.0408 - val_loss: 0.0409\n",
      "Epoch 15/100\n",
      "1513/1513 [==============================] - 6s 4ms/step - loss: 0.0408 - val_loss: 0.0409\n",
      "Epoch 16/100\n",
      "1513/1513 [==============================] - 6s 4ms/step - loss: 0.0408 - val_loss: 0.0409\n",
      "Epoch 17/100\n",
      "1513/1513 [==============================] - 6s 4ms/step - loss: 0.0408 - val_loss: 0.0409\n",
      "Epoch 18/100\n",
      "1513/1513 [==============================] - 6s 4ms/step - loss: 0.0408 - val_loss: 0.0409\n",
      "Epoch 19/100\n",
      "1513/1513 [==============================] - 6s 4ms/step - loss: 0.0408 - val_loss: 0.0409\n",
      "Epoch 20/100\n",
      "1513/1513 [==============================] - 6s 4ms/step - loss: 0.0408 - val_loss: 0.0409\n",
      "Epoch 21/100\n",
      "1513/1513 [==============================] - 6s 4ms/step - loss: 0.0408 - val_loss: 0.0409\n",
      "Epoch 22/100\n",
      "1513/1513 [==============================] - 6s 4ms/step - loss: 0.0408 - val_loss: 0.0409\n",
      "Epoch 23/100\n",
      "1513/1513 [==============================] - 6s 4ms/step - loss: 0.0408 - val_loss: 0.0409\n",
      "Epoch 24/100\n",
      "1513/1513 [==============================] - 6s 4ms/step - loss: 0.0393 - val_loss: 0.0262\n",
      "Epoch 25/100\n",
      "1513/1513 [==============================] - 6s 4ms/step - loss: 0.0261 - val_loss: 0.0262\n",
      "Epoch 26/100\n",
      "1513/1513 [==============================] - 6s 4ms/step - loss: 0.0261 - val_loss: 0.0262\n",
      "Epoch 27/100\n",
      "1513/1513 [==============================] - 6s 4ms/step - loss: 0.0261 - val_loss: 0.0262\n",
      "Epoch 28/100\n",
      "1513/1513 [==============================] - 6s 4ms/step - loss: 0.0261 - val_loss: 0.0262\n",
      "Epoch 29/100\n",
      "1513/1513 [==============================] - 6s 4ms/step - loss: 0.0261 - val_loss: 0.0262\n",
      "Epoch 30/100\n",
      "1513/1513 [==============================] - 6s 4ms/step - loss: 0.0261 - val_loss: 0.0262\n",
      "Epoch 31/100\n",
      "1513/1513 [==============================] - 6s 4ms/step - loss: 0.0261 - val_loss: 0.0260\n",
      "Epoch 32/100\n",
      "1513/1513 [==============================] - 6s 4ms/step - loss: 0.0259 - val_loss: 0.0260\n",
      "Epoch 33/100\n",
      "1513/1513 [==============================] - 6s 4ms/step - loss: 0.0259 - val_loss: 0.0260\n",
      "Epoch 34/100\n",
      "1513/1513 [==============================] - 7s 4ms/step - loss: 0.0259 - val_loss: 0.0260\n",
      "Epoch 35/100\n",
      "1513/1513 [==============================] - 7s 4ms/step - loss: 0.0259 - val_loss: 0.0260\n",
      "Epoch 36/100\n",
      "1513/1513 [==============================] - 7s 5ms/step - loss: 0.0259 - val_loss: 0.0260\n",
      "Epoch 37/100\n",
      "1513/1513 [==============================] - 7s 5ms/step - loss: 0.0259 - val_loss: 0.0260\n",
      "Epoch 38/100\n",
      "1513/1513 [==============================] - 7s 5ms/step - loss: 0.0259 - val_loss: 0.0260\n",
      "Epoch 39/100\n",
      "1513/1513 [==============================] - 8s 5ms/step - loss: 0.0259 - val_loss: 0.0260\n",
      "Epoch 40/100\n",
      "1513/1513 [==============================] - 7s 5ms/step - loss: 0.0259 - val_loss: 0.0260\n",
      "Epoch 41/100\n",
      "1513/1513 [==============================] - 8s 5ms/step - loss: 0.0259 - val_loss: 0.0260\n",
      "Epoch 42/100\n",
      "1513/1513 [==============================] - 7s 5ms/step - loss: 0.0259 - val_loss: 0.0260\n",
      "Epoch 43/100\n",
      "1513/1513 [==============================] - 7s 5ms/step - loss: 0.0259 - val_loss: 0.0260\n",
      "Epoch 44/100\n",
      "1513/1513 [==============================] - 7s 5ms/step - loss: 0.0259 - val_loss: 0.0260\n",
      "Epoch 45/100\n",
      "1513/1513 [==============================] - 7s 5ms/step - loss: 0.0259 - val_loss: 0.0260\n",
      "Epoch 46/100\n",
      "1513/1513 [==============================] - 7s 5ms/step - loss: 0.0259 - val_loss: 0.0260\n",
      "Epoch 47/100\n",
      "1513/1513 [==============================] - 7s 5ms/step - loss: 0.0259 - val_loss: 0.0260\n",
      "Epoch 48/100\n",
      "1513/1513 [==============================] - 7s 5ms/step - loss: 0.0259 - val_loss: 0.0260\n",
      "Epoch 49/100\n",
      "1513/1513 [==============================] - 7s 5ms/step - loss: 0.0259 - val_loss: 0.0260\n",
      "Epoch 50/100\n",
      "1513/1513 [==============================] - 7s 5ms/step - loss: 0.0259 - val_loss: 0.0260\n",
      "Epoch 51/100\n",
      "1513/1513 [==============================] - 7s 5ms/step - loss: 0.0259 - val_loss: 0.0260\n",
      "Epoch 52/100\n",
      "1513/1513 [==============================] - 8s 5ms/step - loss: 0.0259 - val_loss: 0.0260\n",
      "Epoch 53/100\n",
      "1513/1513 [==============================] - 6s 4ms/step - loss: 0.0259 - val_loss: 0.0260\n",
      "Epoch 54/100\n",
      "1513/1513 [==============================] - 6s 4ms/step - loss: 0.0259 - val_loss: 0.0260\n",
      "Epoch 55/100\n",
      "1513/1513 [==============================] - 6s 4ms/step - loss: 0.0259 - val_loss: 0.0260\n",
      "Epoch 56/100\n",
      "1513/1513 [==============================] - 6s 4ms/step - loss: 0.0259 - val_loss: 0.0260\n",
      "Epoch 57/100\n",
      "1513/1513 [==============================] - 6s 4ms/step - loss: 0.0259 - val_loss: 0.0260\n",
      "Epoch 58/100\n",
      "1513/1513 [==============================] - 6s 4ms/step - loss: 0.0259 - val_loss: 0.0260\n",
      "Epoch 59/100\n",
      "1513/1513 [==============================] - 6s 4ms/step - loss: 0.0259 - val_loss: 0.0260\n",
      "Epoch 60/100\n",
      "1513/1513 [==============================] - 6s 4ms/step - loss: 0.0259 - val_loss: 0.0260\n",
      "Epoch 61/100\n",
      "1513/1513 [==============================] - 6s 4ms/step - loss: 0.0259 - val_loss: 0.0260\n",
      "Epoch 62/100\n",
      "1513/1513 [==============================] - 8s 5ms/step - loss: 0.0259 - val_loss: 0.0260\n",
      "Epoch 63/100\n",
      "1513/1513 [==============================] - 6s 4ms/step - loss: 0.0259 - val_loss: 0.0260\n",
      "Epoch 64/100\n",
      "1513/1513 [==============================] - 6s 4ms/step - loss: 0.0259 - val_loss: 0.0260\n",
      "Epoch 65/100\n",
      "1513/1513 [==============================] - 6s 4ms/step - loss: 0.0259 - val_loss: 0.0260\n",
      "Epoch 66/100\n",
      "1513/1513 [==============================] - 6s 4ms/step - loss: 0.0259 - val_loss: 0.0260\n",
      "Epoch 67/100\n",
      "1513/1513 [==============================] - 6s 4ms/step - loss: 0.0259 - val_loss: 0.0260\n",
      "Epoch 68/100\n",
      "1513/1513 [==============================] - 6s 4ms/step - loss: 0.0259 - val_loss: 0.0260\n",
      "Epoch 69/100\n",
      "1513/1513 [==============================] - 6s 4ms/step - loss: 0.0259 - val_loss: 0.0260\n",
      "Epoch 70/100\n",
      "1513/1513 [==============================] - 6s 4ms/step - loss: 0.0259 - val_loss: 0.0260\n",
      "Epoch 71/100\n",
      "1513/1513 [==============================] - 6s 4ms/step - loss: 0.0259 - val_loss: 0.0260\n",
      "Epoch 72/100\n",
      "1513/1513 [==============================] - 6s 4ms/step - loss: 0.0259 - val_loss: 0.0260\n",
      "Epoch 73/100\n",
      "1513/1513 [==============================] - 6s 4ms/step - loss: 0.0259 - val_loss: 0.0260\n",
      "Epoch 74/100\n",
      "1513/1513 [==============================] - 6s 4ms/step - loss: 0.0259 - val_loss: 0.0260\n",
      "Epoch 75/100\n",
      "1513/1513 [==============================] - 6s 4ms/step - loss: 0.0259 - val_loss: 0.0260\n",
      "Epoch 76/100\n",
      "1513/1513 [==============================] - 6s 4ms/step - loss: 0.0259 - val_loss: 0.0260\n",
      "Epoch 77/100\n",
      "1513/1513 [==============================] - 6s 4ms/step - loss: 0.0259 - val_loss: 0.0260\n",
      "Epoch 78/100\n",
      "1513/1513 [==============================] - 6s 4ms/step - loss: 0.0259 - val_loss: 0.0260\n",
      "Epoch 79/100\n",
      "1513/1513 [==============================] - 6s 4ms/step - loss: 0.0259 - val_loss: 0.0260\n"
     ]
    },
    {
     "name": "stdout",
     "output_type": "stream",
     "text": [
      "Epoch 80/100\n",
      "1513/1513 [==============================] - 6s 4ms/step - loss: 0.0259 - val_loss: 0.0260\n",
      "Epoch 81/100\n",
      "1513/1513 [==============================] - 6s 4ms/step - loss: 0.0259 - val_loss: 0.0260\n",
      "Epoch 82/100\n",
      "1513/1513 [==============================] - 6s 4ms/step - loss: 0.0259 - val_loss: 0.0260\n",
      "Epoch 83/100\n",
      "1513/1513 [==============================] - 6s 4ms/step - loss: 0.0259 - val_loss: 0.0260\n",
      "Epoch 84/100\n",
      "1513/1513 [==============================] - 6s 4ms/step - loss: 0.0259 - val_loss: 0.0260\n",
      "Epoch 85/100\n",
      "1513/1513 [==============================] - 6s 4ms/step - loss: 0.0259 - val_loss: 0.0260\n",
      "Epoch 86/100\n",
      "1513/1513 [==============================] - 7s 4ms/step - loss: 0.0259 - val_loss: 0.0260\n",
      "Epoch 87/100\n",
      "1513/1513 [==============================] - 7s 4ms/step - loss: 0.0259 - val_loss: 0.0260\n",
      "Epoch 88/100\n",
      "1513/1513 [==============================] - 6s 4ms/step - loss: 0.0259 - val_loss: 0.0260\n",
      "Epoch 89/100\n",
      "1513/1513 [==============================] - 7s 4ms/step - loss: 0.0259 - val_loss: 0.0260\n",
      "Epoch 90/100\n",
      "1513/1513 [==============================] - 7s 5ms/step - loss: 0.0259 - val_loss: 0.0260\n",
      "Epoch 91/100\n",
      "1513/1513 [==============================] - 7s 5ms/step - loss: 0.0259 - val_loss: 0.0260\n",
      "Epoch 92/100\n",
      "1513/1513 [==============================] - 7s 5ms/step - loss: 0.0259 - val_loss: 0.0260\n",
      "Epoch 93/100\n",
      "1513/1513 [==============================] - 7s 5ms/step - loss: 0.0259 - val_loss: 0.0260\n",
      "Epoch 94/100\n",
      "1513/1513 [==============================] - 7s 5ms/step - loss: 0.0259 - val_loss: 0.0260\n",
      "Epoch 95/100\n",
      "1513/1513 [==============================] - 7s 5ms/step - loss: 0.0259 - val_loss: 0.0260\n",
      "Epoch 96/100\n",
      "1513/1513 [==============================] - 7s 5ms/step - loss: 0.0259 - val_loss: 0.0260\n",
      "Epoch 97/100\n",
      "1513/1513 [==============================] - 7s 5ms/step - loss: 0.0259 - val_loss: 0.0260\n",
      "Epoch 98/100\n",
      "1513/1513 [==============================] - 7s 5ms/step - loss: 0.0259 - val_loss: 0.0260\n",
      "Epoch 99/100\n",
      "1513/1513 [==============================] - 7s 5ms/step - loss: 0.0259 - val_loss: 0.0260\n",
      "Epoch 100/100\n",
      "1513/1513 [==============================] - 7s 5ms/step - loss: 0.0259 - val_loss: 0.0260\n"
     ]
    }
   ],
   "source": [
    "early_stopping = EarlyStopping(monitor='val_loss', min_delta=0.00005, patience=20)\n",
    "\n",
    "history=autoencoder.fit(autoencoderBackgroundData, autoencoderBackgroundData, epochs=100,\n",
    "               batch_size=125,\n",
    "               shuffle='batch',\n",
    "               validation_split=0.1)"
   ]
  },
  {
   "cell_type": "code",
   "execution_count": 21,
   "id": "ff5aae9d",
   "metadata": {},
   "outputs": [
    {
     "name": "stdout",
     "output_type": "stream",
     "text": [
      "256/256 [==============================] - 1s 2ms/step\n"
     ]
    },
    {
     "data": {
      "image/png": "[encoded data removed]",
      "text/plain": [
       "<Figure size 432x288 with 1 Axes>"
      ]
     },
     "metadata": {
      "needs_background": "light"
     },
     "output_type": "display_data"
    }
   ],
   "source": [
    "y_Predict = calculateAutoencoderError(X_Test, autoencoder)\n",
    "\n",
    "fpr, tpr, _ = roc_curve(y_Test, y_Predict)\n",
    "                        \n",
    "roc_auc = auc(fpr, tpr)\n",
    "\n",
    "plt.plot(fpr,tpr,color='darkorange',label='ROC curve (area = %0.2f)' % roc_auc)\n",
    "plt.legend(loc=\"lower right\")\n",
    "plt.xlabel('False Positive Rate')\n",
    "plt.ylabel('True Positive Rate')\n",
    "\n",
    "plt.show()\n"
   ]
  },
  {
   "cell_type": "code",
   "execution_count": 22,
   "id": "c9664830",
   "metadata": {},
   "outputs": [
    {
     "name": "stdout",
     "output_type": "stream",
     "text": [
      "[[0.08998823 0.45238778 0.07265953 ... 0.10453648 0.58563025 0.        ]\n",
      " [0.08896573 0.71354308 0.1042361  ... 0.00959889 0.6056066  0.        ]\n",
      " [0.0878463  0.6195512  0.84369917 ... 0.01113379 0.26780442 0.        ]\n",
      " ...\n",
      " [0.05108204 0.16346058 0.68674421 ... 0.0793834  0.2687705  0.        ]\n",
      " [0.05124701 0.34005743 0.12829095 ... 0.01522025 0.57889157 0.        ]\n",
      " [0.19189365 0.39894424 0.66459127 ... 0.05038262 0.15621832 0.        ]]\n",
      "[[0.44228382 0.53252889 0.28652306 ... 0.39029951 0.80005384 0.        ]\n",
      " [0.02207498 0.43175951 0.04800766 ... 0.03685465 0.4592158  0.        ]\n",
      " [0.05537611 0.70105408 0.27123364 ... 0.06455099 0.57850608 0.        ]\n",
      " ...\n",
      " [0.20838687 0.44164893 0.73604629 ... 0.29818148 0.15515017 0.        ]\n",
      " [0.08457757 0.63283131 0.23287148 ... 0.00271862 0.72562533 0.        ]\n",
      " [0.13981496 0.44208565 0.6215962  ... 0.16284956 0.07908586 0.        ]]\n",
      "6694/6694 [==============================] - 12s 2ms/step\n",
      "128/128 [==============================] - 0s 2ms/step\n"
     ]
    },
    {
     "data": {
      "image/png": "[encoded data removed]",
      "text/plain": [
       "<Figure size 432x288 with 1 Axes>"
      ]
     },
     "metadata": {
      "needs_background": "light"
     },
     "output_type": "display_data"
    }
   ],
   "source": [
    "backgroundAutoencoderData = formatAutoencoderData(backgroundDataList)[VarNames]\n",
    "signalAutoencoderData = formatAutoencoderData(signalDataList)[VarNames]\n",
    "x_Predict = calculateAutoencoderError(backgroundAutoencoderData, autoencoder)\n",
    "y_Predict = calculateAutoencoderError(signalAutoencoderData, autoencoder)\n",
    "\n",
    "plotHistogram(y_Predict, x_Predict, 100)"
   ]
  },
  {
   "cell_type": "code",
   "execution_count": null,
   "id": "21cebaa2",
   "metadata": {},
   "outputs": [],
   "source": []
  },
  {
   "cell_type": "code",
   "execution_count": 23,
   "id": "c2aeae25",
   "metadata": {},
   "outputs": [
    {
     "data": {
      "text/plain": [
       "<matplotlib.legend.Legend at 0x148633a7520>"
      ]
     },
     "execution_count": 23,
     "metadata": {},
     "output_type": "execute_result"
    },
    {
     "data": {
      "image/png": "[encoded data removed]",
      "text/plain": [
       "<Figure size 432x288 with 1 Axes>"
      ]
     },
     "metadata": {
      "needs_background": "light"
     },
     "output_type": "display_data"
    }
   ],
   "source": [
    "plt.plot(range(len(history.history[\"loss\"])),history.history[\"loss\"],label=\"Training Loss\")\n",
    "plt.plot(range(len(history.history[\"val_loss\"])),history.history[\"val_loss\"],label=\"Validation Loss\")\n",
    "plt.legend()"
   ]
  },
  {
   "cell_type": "code",
   "execution_count": 24,
   "id": "9f0a2c7f",
   "metadata": {},
   "outputs": [
    {
     "name": "stdout",
     "output_type": "stream",
     "text": [
      "256/256 [==============================] - 0s 2ms/step\n"
     ]
    },
    {
     "data": {
      "image/png": "[encoded data removed]",
      "text/plain": [
       "<Figure size 432x288 with 1 Axes>"
      ]
     },
     "metadata": {
      "needs_background": "light"
     },
     "output_type": "display_data"
    }
   ],
   "source": [
    "distortedData = autoencoder.predict(X_Test)\n",
    "y_Predict = []\n",
    "X_Test_numpy = X_Test.to_numpy()\n",
    "for i in range(0, len(distortedData)):\n",
    "    X = X_Test_numpy[i]\n",
    "    Y = distortedData[i]\n",
    "    predict = mean_squared_error(X, Y)\n",
    "    y_Predict.append(predict)\n",
    "    \n",
    "\n",
    "fpr, tpr, _ = roc_curve(y_Test, y_Predict)\n",
    "                        \n",
    "roc_auc = auc(fpr, tpr)\n",
    "\n",
    "plt.plot(fpr,tpr,color='darkorange',label='ROC curve (area = %0.2f)' % roc_auc)\n",
    "plt.legend(loc=\"lower right\")\n",
    "plt.xlabel('False Positive Rate')\n",
    "plt.ylabel('True Positive Rate')\n",
    "\n",
    "plt.show()"
   ]
  },
  {
   "cell_type": "code",
   "execution_count": 25,
   "id": "e8588e75",
   "metadata": {},
   "outputs": [
    {
     "name": "stdout",
     "output_type": "stream",
     "text": [
      "[[0.08998823 0.45238778 0.07265953 ... 0.10453648 0.58563025 0.        ]\n",
      " [0.08896573 0.71354308 0.1042361  ... 0.00959889 0.6056066  0.        ]\n",
      " [0.0878463  0.6195512  0.84369917 ... 0.01113379 0.26780442 0.        ]\n",
      " ...\n",
      " [0.05108204 0.16346058 0.68674421 ... 0.0793834  0.2687705  0.        ]\n",
      " [0.05124701 0.34005743 0.12829095 ... 0.01522025 0.57889157 0.        ]\n",
      " [0.19189365 0.39894424 0.66459127 ... 0.05038262 0.15621832 0.        ]]\n",
      "[[0.44228382 0.53252889 0.28652306 ... 0.39029951 0.80005384 0.        ]\n",
      " [0.02207498 0.43175951 0.04800766 ... 0.03685465 0.4592158  0.        ]\n",
      " [0.05537611 0.70105408 0.27123364 ... 0.06455099 0.57850608 0.        ]\n",
      " ...\n",
      " [0.20838687 0.44164893 0.73604629 ... 0.29818148 0.15515017 0.        ]\n",
      " [0.08457757 0.63283131 0.23287148 ... 0.00271862 0.72562533 0.        ]\n",
      " [0.13981496 0.44208565 0.6215962  ... 0.16284956 0.07908586 0.        ]]\n"
     ]
    }
   ],
   "source": [
    "backgroundAutoencoderData = formatAutoencoderData(backgroundDataList)\n",
    "signalAutoencoderData = formatAutoencoderData(signalDataList)\n",
    "\n",
    "#x_Predict = []\n",
    "#autoencoderBackgroundData_numpy = autoencoderBackgroundData.to_numpy()\n",
    "#for i in range(0, len(distortedDataTest)):\n",
    " #   X = autoencoderBackgroundData_numpy[i]\n",
    " #   Y = distortedDataTest[i]\n",
    " #   predict = mean_squared_error(X, Y)\n",
    " #   x_Predict.append(predict)\n",
    "\n",
    "#plotHistogram(y_Predict, x_Predict, 100)"
   ]
  }
 ],
 "metadata": {
  "kernelspec": {
   "display_name": "Python 3",
   "language": "python",
   "name": "python3"
  },
  "language_info": {
   "codemirror_mode": {
    "name": "ipython",
    "version": 3
   },
   "file_extension": ".py",
   "mimetype": "text/x-python",
   "name": "python",
   "nbconvert_exporter": "python",
   "pygments_lexer": "ipython3",
   "version": "3.8.8"
  }
 },
 "nbformat": 4,
 "nbformat_minor": 5
}
