{
 "cells": [
  {
   "cell_type": "code",
   "execution_count": 1,
   "id": "f658d824",
   "metadata": {},
   "outputs": [],
   "source": [
    "class Particle:\n",
    "    def __init__(self, particleText, METPhi):\n",
    "        \n",
    "        #Get our list of quantities for the particle\n",
    "        particleInfo = particleText.split(\",\")\n",
    "        \n",
    "        #Define our particle quantities\n",
    "        self.obj = particleInfo[0]\n",
    "        self.E = float(particleInfo[1])\n",
    "        self.pt = float(particleInfo[2])\n",
    "        self.eta = float(particleInfo[3])\n",
    "        self.phi = float(particleInfo[4])\n",
    "        self.deltaPhi = abs(self.phi-METPhi)\n",
    "        \n",
    "    def __str__(self):\n",
    "        return \"(obj: \" + self.obj + \", E: \" + str(self.E) + \", pt: \" + str(self.pt) + \", eta: \" + str(self.eta) + \", phi: \" +str(self.phi) + \")\"\n",
    "    \n",
    "    def getQuantity(self, quantityType):\n",
    "        \n",
    "        if quantityType == \"E\":\n",
    "            return self.E\n",
    "        \n",
    "        elif quantityType == \"pt\":\n",
    "            return self.pt\n",
    "        \n",
    "        elif quantityType == \"eta\":\n",
    "            return self.eta\n",
    "        \n",
    "        elif quantityType == \"phi\":\n",
    "            return self.phi\n",
    "        \n",
    "        elif quantityType == \"deltaPhi\":\n",
    "            return self.deltaPhi\n",
    "        \n",
    "        else:\n",
    "            print(\"Error: Invalid quantity type\")\n",
    "            return 0.0\n",
    "        \n",
    "    __repr__=__str__"
   ]
  },
  {
   "cell_type": "code",
   "execution_count": 2,
   "id": "445e96bd",
   "metadata": {},
   "outputs": [],
   "source": [
    "import sklearn.discriminant_analysis as DA\n",
    "import numpy as np\n",
    "import matplotlib.pyplot as plt\n",
    "%matplotlib inline\n",
    "import pandas as pd\n",
    "import random\n",
    "from keras.models import Sequential\n",
    "from keras.layers import Dense\n",
    "from keras.models import Model\n",
    "from keras.layers import Dense, Input\n",
    "from keras.activations import relu"
   ]
  },
  {
   "cell_type": "code",
   "execution_count": 3,
   "id": "1372228a",
   "metadata": {},
   "outputs": [],
   "source": [
    "def makeMatrixValues(ptList, pxSquaredList, pySquaredList, pxpyList):\n",
    "    \n",
    "    #Create the values to put in our momentum matrix\n",
    "    ptSum = sum(ptList)\n",
    "    pxSquaredSum = sum(pxSquaredList)/ptSum\n",
    "    pySquaredSum = sum(pySquaredList)/ptSum\n",
    "    pxpySum = sum(pxpyList)/ptSum\n",
    "    \n",
    "    return pxSquaredSum, pySquaredSum, pxpySum"
   ]
  },
  {
   "cell_type": "code",
   "execution_count": 4,
   "id": "3a6fe53b",
   "metadata": {},
   "outputs": [],
   "source": [
    "def createMatrix(ptList, pxSquaredList, pySquaredList, pxpyList):\n",
    "    \n",
    "    #Create the values to put in our momentum matrix\n",
    "    pxSquaredSum, pySquaredSum, pxpySum = makeMatrixValues(ptList, pxSquaredList, pySquaredList, pxpyList)\n",
    "    \n",
    "    #Create the momentum matrix\n",
    "    pMatrix = [[pxSquaredSum, pxpySum], [pxpySum, pySquaredSum]]\n",
    "    \n",
    "    return pMatrix"
   ]
  },
  {
   "cell_type": "code",
   "execution_count": 5,
   "id": "8aed4aad",
   "metadata": {},
   "outputs": [],
   "source": [
    "def getEigenValues(ptList, pxSquaredList, pySquaredList, pxpyList):\n",
    "    \n",
    "    #Create the momentum matrix\n",
    "    pMatrix = createMatrix(ptList, pxSquaredList, pySquaredList, pxpyList)\n",
    "    \n",
    "    #Get the eigenvalues of our momentum matrix. We will use these eigenvalues to calculate transverse sphericity\n",
    "    eigenValues, eigenVectors = np.linalg.eig(pMatrix)\n",
    "    \n",
    "    return eigenValues"
   ]
  },
  {
   "cell_type": "code",
   "execution_count": 6,
   "id": "9b7f1900",
   "metadata": {},
   "outputs": [],
   "source": [
    "def computeSTFromEigenValues(eigenValues):\n",
    "    \n",
    "    #Define the eigenvalues needed to calculate transverse sphericity\n",
    "    eigenValue1 = max(eigenValues)\n",
    "    eigenValue2 = min(eigenValues)\n",
    "    \n",
    "    ST = 2.0*eigenValue2/(eigenValue1+eigenValue2)\n",
    "    \n",
    "    return ST"
   ]
  },
  {
   "cell_type": "code",
   "execution_count": 7,
   "id": "2aedf93d",
   "metadata": {},
   "outputs": [],
   "source": [
    "def getPValues(particle):\n",
    "    \n",
    "    #Get the particle quantities needed to get these values\n",
    "    pt = particle.pt\n",
    "    phi = particle.phi\n",
    "    \n",
    "    #Get the x and y components of momentum\n",
    "    px = pt*np.cos(phi)\n",
    "    py = pt*np.sin(phi)\n",
    "    \n",
    "    #These are values needed to create the momentum matrix to calcule transverse sphericity\n",
    "    pxSquared = px**2/pt\n",
    "    pySquared = py**2/pt\n",
    "    pxpy = px*py/pt\n",
    "    \n",
    "    return pt, pxSquared, pySquared, pxpy"
   ]
  },
  {
   "cell_type": "code",
   "execution_count": 8,
   "id": "8c03bea2",
   "metadata": {},
   "outputs": [],
   "source": [
    "def checkJets(obj):\n",
    "    return obj in [\"j\", \"b\"]\n",
    "\n",
    "def checkLeptons(obj):\n",
    "    return obj in [\"e-\", \"e+\", \"m-\", \"m+\"]\n",
    "\n",
    "def checkPhotons(obj):\n",
    "    return obj==\"g\""
   ]
  },
  {
   "cell_type": "code",
   "execution_count": 9,
   "id": "21d346d3",
   "metadata": {},
   "outputs": [],
   "source": [
    "def calculateST(ptList, pxSquaredList, pySquaredList, pxpyList):\n",
    "    \n",
    "    #Make the matrix and get the eigenvalues needed to calculate ST\n",
    "    eigenValues = getEigenValues(ptList, pxSquaredList, pySquaredList, pxpyList)\n",
    "    \n",
    "    ST = computeSTFromEigenValues(eigenValues)\n",
    "    \n",
    "    return ST"
   ]
  },
  {
   "cell_type": "code",
   "execution_count": 10,
   "id": "fa4b4128",
   "metadata": {},
   "outputs": [],
   "source": [
    "def makeFeatures(MET, METPhi, eventInfo):\n",
    "    \n",
    "    #total number of datapoints in the line\n",
    "    length = len(eventInfo)\n",
    "    \n",
    "    # define quantitity lists needed for calculating transverse sphericity\n",
    "    particleList = []\n",
    "    pxSquaredList = []\n",
    "    pySquaredList = []\n",
    "    pxpyList = []\n",
    "    ptList = []\n",
    "    deltaPhiList = []\n",
    "    \n",
    "    #Define the absolute sum of transverse momentum to calculate Meff\n",
    "    absolutePtSum = 0.0\n",
    "    leadingPt = 0.0\n",
    "    \n",
    "    #Define the count for the various particle types\n",
    "    jets = 0\n",
    "    leptons = 0\n",
    "    photons = 0\n",
    "    \n",
    "    #Increment over all of the particles in the line\n",
    "    for i in range(5, length):\n",
    "        \n",
    "        #Get the text for the particle\n",
    "        particleText = eventInfo[i]\n",
    "        \n",
    "        #Make sure that it is actually information for the particle\n",
    "        if particleText != \"\" and particleText != \"\\n\":\n",
    "            \n",
    "            particle = Particle(particleText, METPhi)\n",
    "            \n",
    "            #get the type of particle\n",
    "            obj = particle.obj\n",
    "            \n",
    "            #count the particles of each type\n",
    "            if checkJets(obj):\n",
    "                jets += 1\n",
    "                \n",
    "            elif checkLeptons(obj):\n",
    "                leptons += 1\n",
    "                \n",
    "            elif checkPhotons(obj):\n",
    "                photons += 1\n",
    "            \n",
    "            #Get the momentum-derived values needed to calulate features\n",
    "            pt, pxSquared, pySquared, pxpy = getPValues(particle)\n",
    "            \n",
    "            if pt > leadingPt:\n",
    "                leadingPt = pt\n",
    "            \n",
    "            pxSquaredList.append(pxSquared)\n",
    "            pySquaredList.append(pySquared)\n",
    "            pxpyList.append(pxpy)\n",
    "            ptList.append(pt)\n",
    "            \n",
    "            absolutePtSum += abs(pt)\n",
    "            \n",
    "            particleList.append(particle)\n",
    "            deltaPhiList.append(particle.deltaPhi)\n",
    "    \n",
    "    ST = calculateST(ptList, pxSquaredList, pySquaredList, pxpyList)\n",
    "    \n",
    "    Meff = MET + absolutePtSum\n",
    "    \n",
    "    return particleList, jets, leptons, photons, Meff, ST, leadingPt, ptList, deltaPhiList"
   ]
  },
  {
   "cell_type": "code",
   "execution_count": 11,
   "id": "b25d997f",
   "metadata": {},
   "outputs": [],
   "source": [
    "def makeEvent(line, signal):\n",
    "    \n",
    "    eventInfo = line.split(\";\")\n",
    "    \n",
    "    eventID = eventInfo[0]\n",
    "    processID = eventInfo[1]\n",
    "    eventWeight = float(eventInfo[2])\n",
    "    MET = float(eventInfo[3])\n",
    "    METPhi = float(eventInfo[4])\n",
    "    \n",
    "    signal = float(signal)\n",
    "    \n",
    "    particleList, jets, leptons, photons, Meff, ST, leadingPt, ptList, deltaPhiList = makeFeatures(MET, METPhi, eventInfo)\n",
    "    \n",
    "    crossSection = 1.0\n",
    "    \n",
    "    event = {\n",
    "        \"eventID\" : eventID,\n",
    "        \"processID\" : processID,\n",
    "        \"eventWeight\" : eventWeight,\n",
    "        \"MET\" : MET,\n",
    "        \"METPhi\" : METPhi,\n",
    "        \"particleList\" : particleList,\n",
    "        \"jets\" : jets,\n",
    "        \"leptons\" : leptons,\n",
    "        \"photons\" : photons,\n",
    "        \"crossSection\" : crossSection,\n",
    "        \"Meff\" : Meff,\n",
    "        \"ST\" : ST,\n",
    "        \"leadingPt\" : leadingPt,\n",
    "        \"ptList\" : ptList,\n",
    "        \"deltaPhiList\" : deltaPhiList,\n",
    "        \"signal\" : signal\n",
    "    }\n",
    "    \n",
    "    return event"
   ]
  },
  {
   "cell_type": "code",
   "execution_count": 12,
   "id": "d5b3fcc4",
   "metadata": {},
   "outputs": [],
   "source": [
    "def calculateSignalCrossSection(event, length):\n",
    "    \n",
    "    eventWeight = event[\"eventWeight\"]\n",
    "    \n",
    "    crossSection = eventWeight*length\n",
    "    \n",
    "    return crossSection"
   ]
  },
  {
   "cell_type": "code",
   "execution_count": 13,
   "id": "fc4f2983",
   "metadata": {},
   "outputs": [],
   "source": [
    "def calculateBackgroundCrossSection(length, luminosity):\n",
    "    \n",
    "    crossSection = length/luminosity\n",
    "    \n",
    "    return crossSection"
   ]
  },
  {
   "cell_type": "code",
   "execution_count": 14,
   "id": "46338e5c",
   "metadata": {},
   "outputs": [],
   "source": [
    "def calculateCrossSection(event, length, luminosity, signal):\n",
    "    if signal:\n",
    "        return calculateSignalCrossSection(event, length)\n",
    "    else:\n",
    "        return calculateBackgroundCrossSection(length, luminosity)"
   ]
  },
  {
   "cell_type": "code",
   "execution_count": 15,
   "id": "f6258318",
   "metadata": {},
   "outputs": [],
   "source": [
    "def makeDataList(filePath, signal, luminosity = 1.0):\n",
    "    \n",
    "    file = open(filePath, \"r\")\n",
    "    \n",
    "    dataList = []\n",
    "    \n",
    "    for line in file:\n",
    "        \n",
    "        event = makeEvent(line, signal)\n",
    "        \n",
    "        dataList.append(event)\n",
    "\n",
    "    file.close()\n",
    "    \n",
    "    length = float(len(dataList))\n",
    "    \n",
    "    for event in dataList:\n",
    "        \n",
    "        event[\"crossSection\"] = calculateCrossSection(event, length, luminosity, signal)\n",
    "    \n",
    "    \n",
    "    return dataList"
   ]
  },
  {
   "cell_type": "code",
   "execution_count": 16,
   "id": "4d38ac48",
   "metadata": {},
   "outputs": [],
   "source": [
    "backgroundDataList = makeDataList(\"Data/training_files/training_files/chan1/background_chan1_7.79.csv\", False, luminosity = 7.79)\n",
    "signalDataList = makeDataList(\"Data/training_files/training_files/chan1/glgl1400_neutralino1100_chan1.csv\", True)"
   ]
  },
  {
   "cell_type": "code",
   "execution_count": 17,
   "id": "6630340f",
   "metadata": {},
   "outputs": [
    {
     "name": "stdout",
     "output_type": "stream",
     "text": [
      "214185\n",
      "4096\n",
      "0.0\n",
      "1.0\n"
     ]
    }
   ],
   "source": [
    "print(len(backgroundDataList))\n",
    "print(len(signalDataList))\n",
    "print(backgroundDataList[0][\"signal\"])\n",
    "print(signalDataList[0][\"signal\"])"
   ]
  },
  {
   "cell_type": "code",
   "execution_count": 18,
   "id": "be2724be",
   "metadata": {},
   "outputs": [],
   "source": [
    "N_Train=2000\n",
    "\n",
    "trainBackgroundDataList = backgroundDataList[:N_Train]\n",
    "testBackgroundDataList = backgroundDataList[N_Train:]\n",
    "\n",
    "trainSignalDataList = signalDataList[:N_Train]\n",
    "testSignalDataList = signalDataList[N_Train:]\n",
    "\n",
    "trainDataList = trainBackgroundDataList + trainSignalDataList\n",
    "testDataList = testBackgroundDataList + testSignalDataList\n",
    "\n",
    "random.shuffle(trainDataList)\n",
    "random.shuffle(testDataList)"
   ]
  },
  {
   "cell_type": "code",
   "execution_count": 19,
   "id": "e684027c",
   "metadata": {},
   "outputs": [],
   "source": [
    "Train_Sample = pd.DataFrame(data = trainDataList)\n",
    "Test_Sample = pd.DataFrame(data = testDataList)\n",
    "\n",
    "VarNames = [\"MET\", \"METPhi\", \"jets\", \"leptons\", \"photons\", \"Meff\", \"ST\", \"leadingPt\"]\n",
    "\n",
    "X_Train = Train_Sample[VarNames]\n",
    "y_Train = Train_Sample[\"signal\"]\n",
    "\n",
    "X_Test = Test_Sample[VarNames]\n",
    "y_Test = Test_Sample[\"signal\"]\n",
    "\n",
    "Test_sig = Test_Sample[Test_Sample.signal == 1]\n",
    "Test_bkg = Test_Sample[Test_Sample.signal == 0]"
   ]
  },
  {
   "cell_type": "code",
   "execution_count": 20,
   "id": "bbdc9bc1",
   "metadata": {},
   "outputs": [],
   "source": [
    "Fisher = DA.LinearDiscriminantAnalysis()"
   ]
  },
  {
   "cell_type": "code",
   "execution_count": 21,
   "id": "8cc4ab05",
   "metadata": {},
   "outputs": [
    {
     "data": {
      "text/plain": [
       "LinearDiscriminantAnalysis()"
      ]
     },
     "execution_count": 21,
     "metadata": {},
     "output_type": "execute_result"
    }
   ],
   "source": [
    "Fisher.fit(X_Train, y_Train)"
   ]
  },
  {
   "cell_type": "code",
   "execution_count": 22,
   "id": "0aff91cb",
   "metadata": {},
   "outputs": [
    {
     "data": {
      "text/plain": [
       "array([0., 1., 0., ..., 0., 1., 0.])"
      ]
     },
     "execution_count": 22,
     "metadata": {},
     "output_type": "execute_result"
    }
   ],
   "source": [
    "Fisher.predict(X_Test)"
   ]
  },
  {
   "cell_type": "code",
   "execution_count": 23,
   "id": "1be183ba",
   "metadata": {},
   "outputs": [],
   "source": [
    "def normalizeArea(hist, bin_edges):\n",
    "    \n",
    "    bin_size = bin_edges[1] - bin_edges[0]\n",
    "    integral = sum(hist) * bin_size\n",
    "    normalizedCount = (1.0/integral) * hist\n",
    "    \n",
    "    return normalizedCount"
   ]
  },
  {
   "cell_type": "code",
   "execution_count": 24,
   "id": "6a73b6d1",
   "metadata": {},
   "outputs": [
    {
     "data": {
      "image/png": "[encoded data removed]",
      "text/plain": [
       "<Figure size 432x288 with 1 Axes>"
      ]
     },
     "metadata": {
      "needs_background": "light"
     },
     "output_type": "display_data"
    }
   ],
   "source": [
    "plt.figure()\n",
    "sigHist, sig_bin_edges = np.histogram(Fisher.decision_function(Test_sig[VarNames]), bins=100)\n",
    "normalizedSigHist = normalizeArea(sigHist, sig_bin_edges)\n",
    "bkgHist, bkg_bin_edges = np.histogram(Fisher.decision_function(Test_bkg[VarNames]), bins=100)\n",
    "normalizedBkgHist = normalizeArea(bkgHist, bkg_bin_edges)\n",
    "plt.step(sig_bin_edges[1:], normalizedSigHist, label=\"signal\", color = \"blue\")\n",
    "plt.step(bkg_bin_edges[1:], normalizedBkgHist, label=\"background\", color = \"red\")\n",
    "#plt.hist(Fisher.decision_function(Test_sig[VarNames]),bins=100,histtype=\"step\", color=\"blue\", label=\"signal\",stacked=True)\n",
    "#plt.hist(Fisher.decision_function(Test_bkg[VarNames]),bins=100,histtype=\"step\", color=\"red\", label=\"background\",stacked=True)\n",
    "plt.legend(loc='upper right')\n",
    "plt.show()"
   ]
  },
  {
   "cell_type": "code",
   "execution_count": 25,
   "id": "a531a47c",
   "metadata": {},
   "outputs": [
    {
     "data": {
      "image/png": "[encoded data removed]",
      "text/plain": [
       "<Figure size 432x288 with 1 Axes>"
      ]
     },
     "metadata": {
      "needs_background": "light"
     },
     "output_type": "display_data"
    }
   ],
   "source": [
    "plt.figure()\n",
    "sig_pred = Test_sig[np.array(Fisher.predict(Test_sig[VarNames]),dtype=\"bool\")]\n",
    "sigHist, sig_bin_edges = np.histogram(Fisher.decision_function(sig_pred[VarNames]), bins=100)\n",
    "normalizedSigHist = normalizeArea(sigHist, sig_bin_edges)\n",
    "#plt.hist(Fisher.decision_function(sig_pred[VarNames]),bins=100,histtype=\"step\", color=\"blue\", label=\"signal\",stacked=True)\n",
    "plt.step(sig_bin_edges[1:], normalizedSigHist, label=\"signal\", color = \"blue\")\n",
    "bkg_pred = Test_bkg[np.array(Fisher.predict(Test_bkg[VarNames]),dtype=\"bool\")]\n",
    "bkgHist, bkg_bin_edges = np.histogram(Fisher.decision_function(bkg_pred[VarNames]), bins=100)\n",
    "normalizedBkgHist = normalizeArea(bkgHist, bkg_bin_edges)\n",
    "plt.step(bkg_bin_edges[1:], normalizedBkgHist, label=\"background\", color = \"red\")\n",
    "#plt.hist(Fisher.decision_function(bkg_pred[VarNames]),bins=100,histtype=\"step\", color=\"red\", label=\"background\",stacked=True)\n",
    "plt.legend(loc='upper right')\n",
    "plt.show()"
   ]
  },
  {
   "cell_type": "code",
   "execution_count": 26,
   "id": "3d9db50a",
   "metadata": {},
   "outputs": [
    {
     "data": {
      "image/png": "[encoded data removed]",
      "text/plain": [
       "<Figure size 432x288 with 1 Axes>"
      ]
     },
     "metadata": {
      "needs_background": "light"
     },
     "output_type": "display_data"
    }
   ],
   "source": [
    "from sklearn.metrics import roc_curve, auc\n",
    "fpr, tpr, _ = roc_curve(y_Test, Fisher.decision_function(X_Test))\n",
    "\n",
    "roc_auc = auc(fpr, tpr)\n",
    "\n",
    "plt.plot(fpr,tpr,color='darkorange',label='ROC curve (area = %0.2f)' % roc_auc)\n",
    "plt.legend(loc=\"lower right\")\n",
    "plt.xlabel('False Positive Rate')\n",
    "plt.ylabel('True Positive Rate')\n",
    "\n",
    "plt.show()"
   ]
  },
  {
   "cell_type": "code",
   "execution_count": 27,
   "id": "36c7db12",
   "metadata": {},
   "outputs": [],
   "source": [
    "model = Sequential()\n",
    "model.add(Dense(12, input_dim=X_Train.shape[1], activation='relu'))\n",
    "model.add(Dense(8, activation='relu'))\n",
    "model.add(Dense(8, activation = 'relu'))\n",
    "model.add(Dense(1, activation='sigmoid'))"
   ]
  },
  {
   "cell_type": "code",
   "execution_count": 28,
   "id": "d432d94a",
   "metadata": {},
   "outputs": [
    {
     "name": "stdout",
     "output_type": "stream",
     "text": [
      "Model: \"sequential\"\n",
      "_________________________________________________________________\n",
      " Layer (type)                Output Shape              Param #   \n",
      "=================================================================\n",
      " dense (Dense)               (None, 12)                108       \n",
      "                                                                 \n",
      " dense_1 (Dense)             (None, 8)                 104       \n",
      "                                                                 \n",
      " dense_2 (Dense)             (None, 8)                 72        \n",
      "                                                                 \n",
      " dense_3 (Dense)             (None, 1)                 9         \n",
      "                                                                 \n",
      "=================================================================\n",
      "Total params: 293\n",
      "Trainable params: 293\n",
      "Non-trainable params: 0\n",
      "_________________________________________________________________\n"
     ]
    }
   ],
   "source": [
    "model.summary()"
   ]
  },
  {
   "cell_type": "code",
   "execution_count": 29,
   "id": "6b34762c",
   "metadata": {},
   "outputs": [
    {
     "name": "stdout",
     "output_type": "stream",
     "text": [
      "Model: \"model\"\n",
      "_________________________________________________________________\n",
      " Layer (type)                Output Shape              Param #   \n",
      "=================================================================\n",
      " input_1 (InputLayer)        [(None, 8)]               0         \n",
      "                                                                 \n",
      " dense_4 (Dense)             (None, 12)                108       \n",
      "                                                                 \n",
      " dense_5 (Dense)             (None, 8)                 104       \n",
      "                                                                 \n",
      " dense_6 (Dense)             (None, 8)                 72        \n",
      "                                                                 \n",
      " dense_7 (Dense)             (None, 1)                 9         \n",
      "                                                                 \n",
      "=================================================================\n",
      "Total params: 293\n",
      "Trainable params: 293\n",
      "Non-trainable params: 0\n",
      "_________________________________________________________________\n"
     ]
    }
   ],
   "source": [
    "in_x = Input(shape = X_Train.shape[1:])\n",
    "x = Dense(12, input_dim=X_Train.shape[1], activation='relu')(in_x)\n",
    "x = Dense(8, activation='relu')(x)\n",
    "x = Dense(8, activation='relu')(x)\n",
    "out_x = Dense(1, activation='sigmoid')(x)\n",
    "\n",
    "model = Model(in_x,out_x)\n",
    "\n",
    "model.summary()"
   ]
  },
  {
   "cell_type": "code",
   "execution_count": 30,
   "id": "dc631a5b",
   "metadata": {},
   "outputs": [
    {
     "name": "stdout",
     "output_type": "stream",
     "text": [
      "Model: \"model_1\"\n",
      "_________________________________________________________________\n",
      " Layer (type)                Output Shape              Param #   \n",
      "=================================================================\n",
      " input_2 (InputLayer)        [(None, 8)]               0         \n",
      "                                                                 \n",
      " dense_8 (Dense)             (None, 12)                108       \n",
      "                                                                 \n",
      " dense_9 (Dense)             (None, 8)                 104       \n",
      "                                                                 \n",
      " tf.nn.relu (TFOpLambda)     (None, 8)                 0         \n",
      "                                                                 \n",
      " dense_10 (Dense)            (None, 1)                 9         \n",
      "                                                                 \n",
      "=================================================================\n",
      "Total params: 221\n",
      "Trainable params: 221\n",
      "Non-trainable params: 0\n",
      "_________________________________________________________________\n"
     ]
    }
   ],
   "source": [
    "in_x = Input(shape = X_Train.shape[1:])\n",
    "x = Dense(12, input_dim=X_Train.shape[1], activation='relu')(in_x)\n",
    "x = Dense(8)(x)\n",
    "x = relu(x)\n",
    "out_x = Dense(1, activation='sigmoid')(x)\n",
    "\n",
    "model = Model(in_x,out_x)\n",
    "\n",
    "model.summary()"
   ]
  },
  {
   "cell_type": "code",
   "execution_count": 31,
   "id": "be640871",
   "metadata": {},
   "outputs": [],
   "source": [
    "model.compile(loss='binary_crossentropy', optimizer='adam', metrics=['accuracy'])"
   ]
  },
  {
   "cell_type": "code",
   "execution_count": 32,
   "id": "bd878454",
   "metadata": {},
   "outputs": [
    {
     "name": "stdout",
     "output_type": "stream",
     "text": [
      "Epoch 1/10\n",
      "2/2 [==============================] - 2s 735ms/step - loss: 17356.7637 - accuracy: 0.5000 - val_loss: 28535.7207 - val_accuracy: 0.0098\n",
      "Epoch 2/10\n",
      "2/2 [==============================] - 0s 341ms/step - loss: 13661.4043 - accuracy: 0.5000 - val_loss: 21376.5527 - val_accuracy: 0.0098\n",
      "Epoch 3/10\n",
      "2/2 [==============================] - 0s 326ms/step - loss: 10053.1318 - accuracy: 0.5000 - val_loss: 14376.3965 - val_accuracy: 0.0098\n",
      "Epoch 4/10\n",
      "2/2 [==============================] - 0s 338ms/step - loss: 6490.9048 - accuracy: 0.4992 - val_loss: 7577.0278 - val_accuracy: 0.0375\n",
      "Epoch 5/10\n",
      "2/2 [==============================] - 0s 327ms/step - loss: 3566.7405 - accuracy: 0.3745 - val_loss: 2321.7751 - val_accuracy: 0.3851\n",
      "Epoch 6/10\n",
      "2/2 [==============================] - 0s 348ms/step - loss: 3401.1226 - accuracy: 0.3330 - val_loss: 405.9639 - val_accuracy: 0.7949\n",
      "Epoch 7/10\n",
      "2/2 [==============================] - 0s 337ms/step - loss: 4647.1401 - accuracy: 0.4338 - val_loss: 155.6417 - val_accuracy: 0.9306\n",
      "Epoch 8/10\n",
      "2/2 [==============================] - 0s 346ms/step - loss: 5119.9771 - accuracy: 0.4735 - val_loss: 165.0964 - val_accuracy: 0.9173\n",
      "Epoch 9/10\n",
      "2/2 [==============================] - 0s 340ms/step - loss: 4547.4868 - accuracy: 0.4575 - val_loss: 405.2962 - val_accuracy: 0.7782\n",
      "Epoch 10/10\n",
      "2/2 [==============================] - 0s 343ms/step - loss: 3419.0813 - accuracy: 0.3952 - val_loss: 1362.7036 - val_accuracy: 0.4799\n"
     ]
    }
   ],
   "source": [
    "history=model.fit(X_Train, y_Train, validation_data=(X_Test,y_Test), epochs=10, batch_size=2048)"
   ]
  },
  {
   "cell_type": "code",
   "execution_count": 33,
   "id": "f3cdec9c",
   "metadata": {},
   "outputs": [
    {
     "name": "stdout",
     "output_type": "stream",
     "text": [
      "{'loss': [17356.763671875, 13661.404296875, 10053.1318359375, 6490.90478515625, 3566.740478515625, 3401.12255859375, 4647.14013671875, 5119.97705078125, 4547.48681640625, 3419.081298828125], 'accuracy': [0.5, 0.5, 0.5, 0.49924999475479126, 0.37450000643730164, 0.3330000042915344, 0.4337500035762787, 0.47350001335144043, 0.45750001072883606, 0.39524999260902405], 'val_loss': [28535.720703125, 21376.552734375, 14376.396484375, 7577.02783203125, 2321.775146484375, 405.9638977050781, 155.64169311523438, 165.09640502929688, 405.2961730957031, 1362.70361328125], 'val_accuracy': [0.009781548753380775, 0.009781548753380775, 0.009781548753380775, 0.037483491003513336, 0.3851017951965332, 0.7949468493461609, 0.9306098222732544, 0.9173141717910767, 0.7781977653503418, 0.4798652231693268]}\n"
     ]
    }
   ],
   "source": [
    "print (history.history)"
   ]
  },
  {
   "cell_type": "code",
   "execution_count": 34,
   "id": "d0ff3c29",
   "metadata": {},
   "outputs": [
    {
     "data": {
      "text/plain": [
       "<matplotlib.legend.Legend at 0x1e0b64cf970>"
      ]
     },
     "execution_count": 34,
     "metadata": {},
     "output_type": "execute_result"
    },
    {
     "data": {
      "image/png": "[encoded data removed]",
      "text/plain": [
       "<Figure size 432x288 with 1 Axes>"
      ]
     },
     "metadata": {
      "needs_background": "light"
     },
     "output_type": "display_data"
    }
   ],
   "source": [
    "plt.plot(range(len(history.history[\"loss\"])),history.history[\"loss\"],label=\"Training Loss\")\n",
    "plt.plot(range(len(history.history[\"val_loss\"])),history.history[\"val_loss\"],label=\"Validation Loss\")\n",
    "plt.legend()"
   ]
  },
  {
   "cell_type": "code",
   "execution_count": 35,
   "id": "9ef1119d",
   "metadata": {},
   "outputs": [
    {
     "data": {
      "text/plain": [
       "<matplotlib.legend.Legend at 0x1e0b632c9a0>"
      ]
     },
     "execution_count": 35,
     "metadata": {},
     "output_type": "execute_result"
    },
    {
     "data": {
      "image/png": "[encoded data removed]",
      "text/plain": [
       "<Figure size 432x288 with 1 Axes>"
      ]
     },
     "metadata": {
      "needs_background": "light"
     },
     "output_type": "display_data"
    }
   ],
   "source": [
    "plt.plot(range(len(history.history[\"accuracy\"])),history.history[\"accuracy\"],label=\"Training accuracy\")\n",
    "plt.plot(range(len(history.history[\"val_accuracy\"])),history.history[\"val_accuracy\"],label=\"Validation accuracy\")\n",
    "plt.legend()"
   ]
  },
  {
   "cell_type": "code",
   "execution_count": 36,
   "id": "bb0463ff",
   "metadata": {},
   "outputs": [
    {
     "name": "stdout",
     "output_type": "stream",
     "text": [
      "6697/6697 [==============================] - 18s 3ms/step - loss: 1362.7035 - accuracy: 0.4799\n",
      "[1362.7034912109375, 0.4798652231693268]\n"
     ]
    }
   ],
   "source": [
    "scores = model.evaluate(X_Test, y_Test)\n",
    "print(scores)"
   ]
  },
  {
   "cell_type": "code",
   "execution_count": 37,
   "id": "661836fa",
   "metadata": {},
   "outputs": [
    {
     "name": "stdout",
     "output_type": "stream",
     "text": [
      "6697/6697 [==============================] - 16s 2ms/step\n"
     ]
    },
    {
     "data": {
      "text/plain": [
       "array([[1.],\n",
       "       [0.],\n",
       "       [1.],\n",
       "       ...,\n",
       "       [1.],\n",
       "       [0.],\n",
       "       [1.]], dtype=float32)"
      ]
     },
     "execution_count": 37,
     "metadata": {},
     "output_type": "execute_result"
    }
   ],
   "source": [
    "model.predict(X_Test)"
   ]
  },
  {
   "cell_type": "code",
   "execution_count": 38,
   "id": "43a07ab5",
   "metadata": {},
   "outputs": [
    {
     "name": "stdout",
     "output_type": "stream",
     "text": [
      "6697/6697 [==============================] - 16s 2ms/step\n"
     ]
    },
    {
     "data": {
      "image/png": "[encoded data removed]",
      "text/plain": [
       "<Figure size 432x288 with 1 Axes>"
      ]
     },
     "metadata": {
      "needs_background": "light"
     },
     "output_type": "display_data"
    }
   ],
   "source": [
    "fpr, tpr, _ = roc_curve(y_Test, model.predict(X_Test))\n",
    "                        \n",
    "roc_auc = auc(fpr, tpr)\n",
    "\n",
    "plt.plot(fpr,tpr,color='darkorange',label='ROC curve (area = %0.2f)' % roc_auc)\n",
    "plt.legend(loc=\"lower right\")\n",
    "plt.xlabel('False Positive Rate')\n",
    "plt.ylabel('True Positive Rate')\n",
    "\n",
    "plt.show()"
   ]
  }
 ],
 "metadata": {
  "kernelspec": {
   "display_name": "Python 3",
   "language": "python",
   "name": "python3"
  },
  "language_info": {
   "codemirror_mode": {
    "name": "ipython",
    "version": 3
   },
   "file_extension": ".py",
   "mimetype": "text/x-python",
   "name": "python",
   "nbconvert_exporter": "python",
   "pygments_lexer": "ipython3",
   "version": "3.8.8"
  }
 },
 "nbformat": 4,
 "nbformat_minor": 5
}
